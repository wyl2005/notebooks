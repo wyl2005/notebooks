{
 "cells": [
  {
   "cell_type": "code",
   "execution_count": 1,
   "metadata": {},
   "outputs": [],
   "source": [
    "import tensorflow as tf"
   ]
  },
  {
   "cell_type": "code",
   "execution_count": null,
   "metadata": {},
   "outputs": [],
   "source": [
    "g = tf.Graph()\n",
    "print(g)\n",
    "\n",
    "c = tf.constant(1.0)"
   ]
  },
  {
   "cell_type": "code",
   "execution_count": null,
   "metadata": {},
   "outputs": [],
   "source": [
    "with g.as_default():\n",
    "    print(c.graph, c.name)\n",
    "    a = tf.constant(2.0)\n",
    "    assert c.graph is g\n",
    "#     print(c.op)\n"
   ]
  },
  {
   "cell_type": "code",
   "execution_count": null,
   "metadata": {},
   "outputs": [],
   "source": [
    "graph = tf.get_default_graph()\n",
    "print(graph)"
   ]
  },
  {
   "cell_type": "code",
   "execution_count": null,
   "metadata": {},
   "outputs": [],
   "source": [
    "plt = tf.placeholder(tf.float32, [2,3])\n",
    "plt"
   ]
  },
  {
   "cell_type": "code",
   "execution_count": null,
   "metadata": {},
   "outputs": [],
   "source": [
    "with tf.Session(config=tf.ConfigProto(log_device_placement=True)) as sess:\n",
    "    print(sess.run(plt, feed_dict={plt:[[2,3,5],[1,2,3]]}))\n",
    "    print(plt.shape)\n",
    "    print(plt.graph)\n",
    "    \n",
    "    "
   ]
  },
  {
   "cell_type": "code",
   "execution_count": null,
   "metadata": {},
   "outputs": [],
   "source": [
    "#形状的概念\n",
    "# 静态形状\n",
    "plt = tf.placeholder(tf.float32, [None, 3])\n",
    "print(plt)\n",
    "plt.set_shape([4,3])\n",
    "print(plt)\n",
    "\n",
    "# 静态形状只能设置一次\n",
    "#plt.set_shape([5,2])\n",
    "# print(plt)\n",
    "\n",
    "#动态形状\n",
    "plt_reshape = tf.reshape(plt, [2,3,2])\n",
    "print(plt_reshape)\n"
   ]
  },
  {
   "cell_type": "code",
   "execution_count": 2,
   "metadata": {},
   "outputs": [
    {
     "name": "stdout",
     "output_type": "stream",
     "text": [
      "Tensor(\"a:0\", shape=(), dtype=float32) <tf.Variable 'variable_test:0' shape=(2, 3) dtype=float32_ref>\n",
      "[7.0, array([[-0.45653594,  1.8170266 , -0.03094544],\n",
      "       [-1.3915446 , -0.750917  , -0.4406412 ]], dtype=float32)]\n"
     ]
    }
   ],
   "source": [
    "#变量op\n",
    "a = tf.constant(3.0, name=\"a\")\n",
    "b = tf.constant(4.0, name=\"b\")\n",
    "c = tf.add(a,b, name=\"add\")\n",
    "var = tf.Variable(tf.random_normal([2,3], mean=0.0, stddev=1.0),name=\"variable_test\")\n",
    "\n",
    "print(a, var)\n",
    "# 必须做一步显示的初始化op\n",
    "init_op = tf.global_variables_initializer()\n",
    "with tf.Session() as sess:\n",
    "    # 必须运行初始化op\n",
    "    sess.run(init_op)\n",
    "    \n",
    "    # 把程序的图结构写入事件文件，graph：把指定的图写进事件文件中\n",
    "    filewriter= tf.summary.FileWriter(\"/tf/logs/test/\", graph=sess.graph)\n",
    "    \n",
    "    print(sess.run([c, var]))"
   ]
  },
  {
   "cell_type": "code",
   "execution_count": 4,
   "metadata": {},
   "outputs": [
    {
     "name": "stdout",
     "output_type": "stream",
     "text": [
      "Help on method restore in module tensorflow.python.training.saver:\n",
      "\n",
      "restore(sess, save_path) method of tensorflow.python.training.saver.Saver instance\n",
      "    Restores previously saved variables.\n",
      "    \n",
      "    This method runs the ops added by the constructor for restoring variables.\n",
      "    It requires a session in which the graph was launched.  The variables to\n",
      "    restore do not have to have been initialized, as restoring is itself a way\n",
      "    to initialize variables.\n",
      "    \n",
      "    The `save_path` argument is typically a value previously returned from a\n",
      "    `save()` call, or a call to `latest_checkpoint()`.\n",
      "    \n",
      "    Args:\n",
      "      sess: A `Session` to use to restore the parameters. None in eager mode.\n",
      "      save_path: Path where parameters were previously saved.\n",
      "    \n",
      "    Raises:\n",
      "      ValueError: If save_path is None or not a valid checkpoint.\n",
      "\n"
     ]
    }
   ],
   "source": [
    "saver = tf.train.Saver()\n",
    "help(saver.restore)"
   ]
  },
  {
   "cell_type": "code",
   "execution_count": 5,
   "metadata": {},
   "outputs": [
    {
     "name": "stdout",
     "output_type": "stream",
     "text": [
      "Help on method save in module tensorflow.python.training.saver:\n",
      "\n",
      "save(sess, save_path, global_step=None, latest_filename=None, meta_graph_suffix='meta', write_meta_graph=True, write_state=True, strip_default_attrs=False, save_debug_info=False) method of tensorflow.python.training.saver.Saver instance\n",
      "    Saves variables.\n",
      "    \n",
      "    This method runs the ops added by the constructor for saving variables.\n",
      "    It requires a session in which the graph was launched.  The variables to\n",
      "    save must also have been initialized.\n",
      "    \n",
      "    The method returns the path prefix of the newly created checkpoint files.\n",
      "    This string can be passed directly to a call to `restore()`.\n",
      "    \n",
      "    Args:\n",
      "      sess: A Session to use to save the variables.\n",
      "      save_path: String.  Prefix of filenames created for the checkpoint.\n",
      "      global_step: If provided the global step number is appended to `save_path`\n",
      "        to create the checkpoint filenames. The optional argument can be a\n",
      "        `Tensor`, a `Tensor` name or an integer.\n",
      "      latest_filename: Optional name for the protocol buffer file that will\n",
      "        contains the list of most recent checkpoints.  That file, kept in the\n",
      "        same directory as the checkpoint files, is automatically managed by the\n",
      "        saver to keep track of recent checkpoints.  Defaults to 'checkpoint'.\n",
      "      meta_graph_suffix: Suffix for `MetaGraphDef` file. Defaults to 'meta'.\n",
      "      write_meta_graph: `Boolean` indicating whether or not to write the meta\n",
      "        graph file.\n",
      "      write_state: `Boolean` indicating whether or not to write the\n",
      "        `CheckpointStateProto`.\n",
      "      strip_default_attrs: Boolean. If `True`, default-valued attributes will be\n",
      "        removed from the NodeDefs. For a detailed guide, see\n",
      "        [Stripping Default-Valued\n",
      "          Attributes](https://github.com/tensorflow/tensorflow/blob/master/tensorflow/python/saved_model/README.md#stripping-default-valued-attributes).\n",
      "      save_debug_info: If `True`, save the GraphDebugInfo to a separate file,\n",
      "        which in the same directory of save_path and with `_debug` added before\n",
      "        the file extension. This is only enabled when `write_meta_graph` is\n",
      "        `True`\n",
      "    \n",
      "    Returns:\n",
      "      A string: path prefix used for the checkpoint files.  If the saver is\n",
      "        sharded, this string ends with: '-?????-of-nnnnn' where 'nnnnn'\n",
      "        is the number of shards created.\n",
      "      If the saver is empty, returns None.\n",
      "    \n",
      "    Raises:\n",
      "      TypeError: If `sess` is not a `Session`.\n",
      "      ValueError: If `latest_filename` contains path components, or if it\n",
      "        collides with `save_path`.\n",
      "      RuntimeError: If save and restore ops weren't built.\n",
      "\n"
     ]
    }
   ],
   "source": [
    "help(saver.save)"
   ]
  },
  {
   "cell_type": "code",
   "execution_count": null,
   "metadata": {},
   "outputs": [],
   "source": []
  },
  {
   "cell_type": "code",
   "execution_count": null,
   "metadata": {},
   "outputs": [],
   "source": []
  },
  {
   "cell_type": "code",
   "execution_count": null,
   "metadata": {},
   "outputs": [],
   "source": []
  },
  {
   "cell_type": "code",
   "execution_count": null,
   "metadata": {},
   "outputs": [],
   "source": []
  }
 ],
 "metadata": {
  "kernelspec": {
   "display_name": "Python 3",
   "language": "python",
   "name": "python3"
  },
  "language_info": {
   "codemirror_mode": {
    "name": "ipython",
    "version": 3
   },
   "file_extension": ".py",
   "mimetype": "text/x-python",
   "name": "python",
   "nbconvert_exporter": "python",
   "pygments_lexer": "ipython3",
   "version": "3.6.8"
  }
 },
 "nbformat": 4,
 "nbformat_minor": 2
}
