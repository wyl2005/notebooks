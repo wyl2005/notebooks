{
 "cells": [
  {
   "cell_type": "code",
   "execution_count": null,
   "metadata": {},
   "outputs": [],
   "source": []
  },
  {
   "cell_type": "code",
   "execution_count": 1,
   "metadata": {},
   "outputs": [
    {
     "name": "stdout",
     "output_type": "stream",
     "text": [
      "[1 2 3 4 5] [1 2 3 4 5] [1 2 3 4 5]\n",
      "<class 'numpy.ndarray'>\n",
      "<class 'numpy.ndarray'>\n",
      "int64\n",
      "******************************\n",
      "float64\n"
     ]
    }
   ],
   "source": [
    "###创建数组（矩阵）\n",
    "import numpy as np\n",
    "a = np.array([1,2,3,4,5])\n",
    "b = np.array(range(1,6))\n",
    "c = np.arange(1,6)\n",
    "print(a, b, c)\n",
    "\n",
    "print(type(a))\n",
    "print(type(c))\n",
    "print(c.dtype)\n",
    "print(\"*\"*30)\n",
    "f=np.array([0.1,0.2,0.3])\n",
    "print(f.dtype)"
   ]
  },
  {
   "cell_type": "code",
   "execution_count": null,
   "metadata": {},
   "outputs": [],
   "source": []
  },
  {
   "cell_type": "code",
   "execution_count": 110,
   "metadata": {},
   "outputs": [
    {
     "name": "stdout",
     "output_type": "stream",
     "text": [
      "bool\n",
      "[False  True  True False]\n",
      "int8\n"
     ]
    }
   ],
   "source": [
    "###数据类型的操作\n",
    "a= np.array([0,7,2,0], dtype=bool)\n",
    "print(a.dtype)\n",
    "print(a)\n",
    "b=a.astype(np.int8)\n",
    "print(b.dtype)"
   ]
  },
  {
   "cell_type": "code",
   "execution_count": 111,
   "metadata": {},
   "outputs": [
    {
     "name": "stdout",
     "output_type": "stream",
     "text": [
      "Help on built-in function astype:\n",
      "\n",
      "astype(...) method of numpy.ndarray instance\n",
      "    a.astype(dtype, order='K', casting='unsafe', subok=True, copy=True)\n",
      "    \n",
      "    Copy of the array, cast to a specified type.\n",
      "    \n",
      "    Parameters\n",
      "    ----------\n",
      "    dtype : str or dtype\n",
      "        Typecode or data-type to which the array is cast.\n",
      "    order : {'C', 'F', 'A', 'K'}, optional\n",
      "        Controls the memory layout order of the result.\n",
      "        'C' means C order, 'F' means Fortran order, 'A'\n",
      "        means 'F' order if all the arrays are Fortran contiguous,\n",
      "        'C' order otherwise, and 'K' means as close to the\n",
      "        order the array elements appear in memory as possible.\n",
      "        Default is 'K'.\n",
      "    casting : {'no', 'equiv', 'safe', 'same_kind', 'unsafe'}, optional\n",
      "        Controls what kind of data casting may occur. Defaults to 'unsafe'\n",
      "        for backwards compatibility.\n",
      "    \n",
      "          * 'no' means the data types should not be cast at all.\n",
      "          * 'equiv' means only byte-order changes are allowed.\n",
      "          * 'safe' means only casts which can preserve values are allowed.\n",
      "          * 'same_kind' means only safe casts or casts within a kind,\n",
      "            like float64 to float32, are allowed.\n",
      "          * 'unsafe' means any data conversions may be done.\n",
      "    subok : bool, optional\n",
      "        If True, then sub-classes will be passed-through (default), otherwise\n",
      "        the returned array will be forced to be a base-class array.\n",
      "    copy : bool, optional\n",
      "        By default, astype always returns a newly allocated array. If this\n",
      "        is set to false, and the `dtype`, `order`, and `subok`\n",
      "        requirements are satisfied, the input array is returned instead\n",
      "        of a copy.\n",
      "    \n",
      "    Returns\n",
      "    -------\n",
      "    arr_t : ndarray\n",
      "        Unless `copy` is False and the other conditions for returning the input\n",
      "        array are satisfied (see description for `copy` input parameter), `arr_t`\n",
      "        is a new array of the same shape as the input array, with dtype, order\n",
      "        given by `dtype`, `order`.\n",
      "    \n",
      "    Notes\n",
      "    -----\n",
      "    Starting in NumPy 1.9, astype method now returns an error if the string\n",
      "    dtype to cast to is not long enough in 'safe' casting mode to hold the max\n",
      "    value of integer/float array that is being casted. Previously the casting\n",
      "    was allowed even if the result was truncated.\n",
      "    \n",
      "    Raises\n",
      "    ------\n",
      "    ComplexWarning\n",
      "        When casting from complex to float or int. To avoid this,\n",
      "        one should use ``a.real.astype(t)``.\n",
      "    \n",
      "    Examples\n",
      "    --------\n",
      "    >>> x = np.array([1, 2, 2.5])\n",
      "    >>> x\n",
      "    array([ 1. ,  2. ,  2.5])\n",
      "    \n",
      "    >>> x.astype(int)\n",
      "    array([1, 2, 2])\n",
      "\n"
     ]
    }
   ],
   "source": [
    "\n",
    "help(a.astype)"
   ]
  },
  {
   "cell_type": "code",
   "execution_count": 12,
   "metadata": {},
   "outputs": [
    {
     "data": {
      "text/plain": [
       "array([1, 2, 3, 4, 5])"
      ]
     },
     "execution_count": 12,
     "metadata": {},
     "output_type": "execute_result"
    }
   ],
   "source": [
    "b"
   ]
  },
  {
   "cell_type": "code",
   "execution_count": 14,
   "metadata": {},
   "outputs": [
    {
     "data": {
      "text/plain": [
       "(2, 6)"
      ]
     },
     "execution_count": 14,
     "metadata": {},
     "output_type": "execute_result"
    }
   ],
   "source": [
    "#数组的形状\n",
    "a = np.array([[3,4,5,6,7,8], [1,2,3,4,5,6]])\n",
    "a.shape"
   ]
  },
  {
   "cell_type": "code",
   "execution_count": 16,
   "metadata": {},
   "outputs": [
    {
     "data": {
      "text/plain": [
       "array([[3, 4, 5],\n",
       "       [6, 7, 8],\n",
       "       [1, 2, 3],\n",
       "       [4, 5, 6]])"
      ]
     },
     "execution_count": 16,
     "metadata": {},
     "output_type": "execute_result"
    }
   ],
   "source": [
    "a.reshape(4,3)"
   ]
  },
  {
   "cell_type": "code",
   "execution_count": 57,
   "metadata": {},
   "outputs": [
    {
     "data": {
      "text/plain": [
       "array([[[ 3,  6,  9],\n",
       "        [12, 15, 18],\n",
       "        [21, 24, 27],\n",
       "        [30, 33, 36]]])"
      ]
     },
     "execution_count": 57,
     "metadata": {},
     "output_type": "execute_result"
    }
   ],
   "source": [
    "t3 = np.array([[[1,2,3], [4,5,6],[7,8,9],[10,11,12]]])\n",
    "t3.shape\n",
    "\n",
    "#有返回值的方法，不会对数组本身进行修改。\n",
    "t3.reshape(3,2,2)\n",
    "t3\n",
    "t3+2\n",
    "t3*3"
   ]
  },
  {
   "cell_type": "code",
   "execution_count": 32,
   "metadata": {},
   "outputs": [
    {
     "name": "stdout",
     "output_type": "stream",
     "text": [
      "(24,)\n",
      "(24,)\n"
     ]
    }
   ],
   "source": [
    "a = np.arange(24)\n",
    "print(a.shape)\n",
    "a.reshape(4,2,3)\n",
    "print(a.shape)"
   ]
  },
  {
   "cell_type": "code",
   "execution_count": 34,
   "metadata": {},
   "outputs": [
    {
     "data": {
      "text/plain": [
       "array([ 1,  2,  3,  4,  5,  6,  7,  8,  9, 10, 11, 12])"
      ]
     },
     "execution_count": 34,
     "metadata": {},
     "output_type": "execute_result"
    }
   ],
   "source": [
    "t3.flatten()"
   ]
  },
  {
   "cell_type": "code",
   "execution_count": 38,
   "metadata": {},
   "outputs": [
    {
     "data": {
      "text/plain": [
       "(12,)"
      ]
     },
     "execution_count": 38,
     "metadata": {},
     "output_type": "execute_result"
    }
   ],
   "source": [
    "\n",
    "t3.flatten().shapeo"
   ]
  },
  {
   "cell_type": "code",
   "execution_count": 69,
   "metadata": {},
   "outputs": [
    {
     "data": {
      "text/plain": [
       "array([[ 0,  0,  0,  0,  0,  0],\n",
       "       [ 6,  6,  6,  6,  6,  6],\n",
       "       [12, 12, 12, 12, 12, 12],\n",
       "       [18, 18, 18, 18, 18, 18]])"
      ]
     },
     "execution_count": 69,
     "metadata": {},
     "output_type": "execute_result"
    }
   ],
   "source": [
    "#数组和数组的计算\n",
    "t5 = np.arange(0,24).reshape((4,6))\n",
    "\n",
    "t6 = np.arange(100,124).reshape((4,6))\n",
    "t5+t6\n",
    "t5\n",
    "t7 = np.arange(0,6)\n",
    "t5-t7"
   ]
  },
  {
   "cell_type": "code",
   "execution_count": 74,
   "metadata": {},
   "outputs": [
    {
     "name": "stdout",
     "output_type": "stream",
     "text": [
      "[[0]\n",
      " [1]\n",
      " [2]\n",
      " [3]]\n",
      "[[ 0  1  2  3  4  5]\n",
      " [ 6  7  8  9 10 11]\n",
      " [12 13 14 15 16 17]\n",
      " [18 19 20 21 22 23]]\n"
     ]
    },
    {
     "data": {
      "text/plain": [
       "array([[ 0,  1,  2,  3,  4,  5],\n",
       "       [ 5,  6,  7,  8,  9, 10],\n",
       "       [10, 11, 12, 13, 14, 15],\n",
       "       [15, 16, 17, 18, 19, 20]])"
      ]
     },
     "execution_count": 74,
     "metadata": {},
     "output_type": "execute_result"
    }
   ],
   "source": [
    "t8 = np.arange(0,4).reshape((4,1))\n",
    "print(t8)\n",
    "print(t5)\n",
    "t5-t8"
   ]
  },
  {
   "cell_type": "code",
   "execution_count": 98,
   "metadata": {},
   "outputs": [
    {
     "name": "stdout",
     "output_type": "stream",
     "text": [
      "[[[ 0  1  2]\n",
      "  [ 3  4  5]\n",
      "  [ 6  7  8]]\n",
      "\n",
      " [[ 9 10 11]\n",
      "  [12 13 14]\n",
      "  [15 16 17]]\n",
      "\n",
      " [[18 19 20]\n",
      "  [21 22 23]\n",
      "  [24 25 26]]]\n",
      "[[1]\n",
      " [2]\n",
      " [3]]\n",
      "[[[-1  0  1]\n",
      "  [ 1  2  3]\n",
      "  [ 3  4  5]]\n",
      "\n",
      " [[ 8  9 10]\n",
      "  [10 11 12]\n",
      "  [12 13 14]]\n",
      "\n",
      " [[17 18 19]\n",
      "  [19 20 21]\n",
      "  [21 22 23]]]\n"
     ]
    }
   ],
   "source": [
    "#数组和数组计算\n",
    "a = np.arange(0,27).reshape(3,3,3)\n",
    "print(a)\n",
    "b = np.arange(1,4).reshape((3,1))\n",
    "print(b)\n",
    "print(a-b)"
   ]
  },
  {
   "cell_type": "code",
   "execution_count": 9,
   "metadata": {},
   "outputs": [
    {
     "data": {
      "text/plain": [
       "(4, 1688)"
      ]
     },
     "execution_count": 9,
     "metadata": {},
     "output_type": "execute_result"
    }
   ],
   "source": [
    "# 读取csv 文件\n",
    "us_file_path = \"./youtube_video_data/US_video_data_numbers.csv\"\n",
    "uk_file_path = \"./youtube_video_data/GB_video_data_numbers.csv\"\n",
    "\n",
    "t1 = np.loadtxt(us_file_path, delimiter=\",\",dtype=\"int\",unpack=True)\n",
    "t1.shape"
   ]
  },
  {
   "cell_type": "code",
   "execution_count": 65,
   "metadata": {},
   "outputs": [
    {
     "data": {
      "text/plain": [
       "array([[ 0,  1,  2,  3,  4,  5],\n",
       "       [ 6,  7,  8,  9, 10, 11],\n",
       "       [12, 13, 14, 15, 16, 17],\n",
       "       [18, 19, 20, 21, 22, 23]])"
      ]
     },
     "execution_count": 65,
     "metadata": {},
     "output_type": "execute_result"
    }
   ],
   "source": [
    "#数组转置\n",
    "t1 = np.arange(24).reshape((4,6))\n",
    "t1"
   ]
  },
  {
   "cell_type": "code",
   "execution_count": 66,
   "metadata": {},
   "outputs": [
    {
     "data": {
      "text/plain": [
       "array([[ 0,  6, 12, 18],\n",
       "       [ 1,  7, 13, 19],\n",
       "       [ 2,  8, 14, 20],\n",
       "       [ 3,  9, 15, 21],\n",
       "       [ 4, 10, 16, 22],\n",
       "       [ 5, 11, 17, 23]])"
      ]
     },
     "execution_count": 66,
     "metadata": {},
     "output_type": "execute_result"
    }
   ],
   "source": [
    "t1.transpose()\n",
    "t1.T\n",
    "t1.swapaxes(0,1)"
   ]
  },
  {
   "cell_type": "code",
   "execution_count": 67,
   "metadata": {},
   "outputs": [
    {
     "data": {
      "text/plain": [
       "array([[ 0,  1,  2,  3,  4,  5],\n",
       "       [ 6,  7,  8,  9, 10, 11],\n",
       "       [12, 13, 14, 15, 16, 17],\n",
       "       [18, 19, 20, 21, 22, 23]])"
      ]
     },
     "execution_count": 67,
     "metadata": {},
     "output_type": "execute_result"
    }
   ],
   "source": [
    "t1"
   ]
  },
  {
   "cell_type": "code",
   "execution_count": 86,
   "metadata": {},
   "outputs": [
    {
     "name": "stdout",
     "output_type": "stream",
     "text": [
      "[[ 1  4]\n",
      " [ 7 10]\n",
      " [13 16]\n",
      " [19 22]]\n",
      "[[ 6  7  8  9 10 11]\n",
      " [12 13 14 15 16 17]\n",
      " [18 19 20 21 22 23]]\n",
      "[[12 13 14 15 16 17]\n",
      " [18 19 20 21 22 23]]\n",
      "[[ 8  9 10]\n",
      " [14 15 16]]\n"
     ]
    }
   ],
   "source": [
    "#numpy 索引和切片\n",
    "#取第1 和 4列\n",
    "print(t1[:,[1,4]])\n",
    "\n",
    "#取不连续多行\n",
    "print(t1[[1,2,3]])\n",
    "\n",
    "#取连续多行\n",
    "print(t1[2:])\n",
    "\n",
    "#取第1行到第3行，第3列到第5列\n",
    "print(t1[1:3, 2:5])"
   ]
  },
  {
   "cell_type": "code",
   "execution_count": 48,
   "metadata": {},
   "outputs": [
    {
     "data": {
      "text/plain": [
       "array([[ 0,  1,  2,  0,  0,  0],\n",
       "       [ 6,  7,  8,  0,  0,  0],\n",
       "       [12, 13, 14,  0,  0,  0],\n",
       "       [18, 19, 20,  0,  0,  0]])"
      ]
     },
     "execution_count": 48,
     "metadata": {},
     "output_type": "execute_result"
    }
   ],
   "source": [
    "t1[:,[3,4]] = 0\n",
    "t1"
   ]
  },
  {
   "cell_type": "code",
   "execution_count": 88,
   "metadata": {},
   "outputs": [
    {
     "data": {
      "text/plain": [
       "array([[ 0,  1,  2,  3,  4,  5],\n",
       "       [ 6,  7,  8,  9, 10, 11],\n",
       "       [12, 13, 14, 15, 16, 17],\n",
       "       [18, 19, 20, 21, 22, 23]])"
      ]
     },
     "execution_count": 88,
     "metadata": {},
     "output_type": "execute_result"
    }
   ],
   "source": [
    "t = np.arange(0,24).reshape((4,6))\n",
    "t"
   ]
  },
  {
   "cell_type": "code",
   "execution_count": 93,
   "metadata": {},
   "outputs": [
    {
     "data": {
      "text/plain": [
       "array([[ 0,  1,  2,  3,  4,  5],\n",
       "       [ 6,  7,  8,  9, 10, 11],\n",
       "       [12, 13, 14, 15, 16, 17],\n",
       "       [18, 88, 88, 88, 88, 88]])"
      ]
     },
     "execution_count": 93,
     "metadata": {},
     "output_type": "execute_result"
    }
   ],
   "source": [
    "#numpy中布尔索引\n",
    "t[t>18]=88\n",
    "t"
   ]
  },
  {
   "cell_type": "code",
   "execution_count": 107,
   "metadata": {},
   "outputs": [
    {
     "name": "stdout",
     "output_type": "stream",
     "text": [
      "[[ 0  1  2  3]\n",
      " [ 4  5  6  7]\n",
      " [ 8  9 10 11]\n",
      " [12 13 14 15]\n",
      " [16 17 18 19]\n",
      " [20 21 22 23]]\n"
     ]
    },
    {
     "data": {
      "text/plain": [
       "array([[  0,   1,   2,  30],\n",
       "       [ 40,  50,  60,  70],\n",
       "       [ 80,  90, 100, 110],\n",
       "       [120, 130, 140, 150],\n",
       "       [160, 170, 180, 190],\n",
       "       [200, 210, 220, 230]])"
      ]
     },
     "execution_count": 107,
     "metadata": {},
     "output_type": "execute_result"
    }
   ],
   "source": [
    "# numpy中三元运算符\n",
    "t = np.arange(0,24).reshape((6,4))\n",
    "print(t)\n",
    "np.where(t<3, t, t*10)"
   ]
  },
  {
   "cell_type": "code",
   "execution_count": 120,
   "metadata": {},
   "outputs": [
    {
     "name": "stdout",
     "output_type": "stream",
     "text": [
      "[[ 0  1  2  3  4  5]\n",
      " [ 6  7  8  9 10 11]]\n",
      "******************************\n",
      "[[12 13 14 15 16 17]\n",
      " [18 19 20 21 22 23]]\n",
      "******************************\n",
      "[[ 0  1  2  3  4  5]\n",
      " [ 6  7  8  9 10 11]\n",
      " [12 13 14 15 16 17]\n",
      " [18 19 20 21 22 23]]\n",
      "******************************\n",
      "[[ 0  1  2  3  4  5 12 13 14 15 16 17]\n",
      " [ 6  7  8  9 10 11 18 19 20 21 22 23]]\n"
     ]
    }
   ],
   "source": [
    "#数组的拼接\n",
    "t1 = np.arange(0,12).reshape((2,6))\n",
    "print(t1)\n",
    "print(\"*\"*30)\n",
    "t2 = np.arange(12,24).reshape((2,6))\n",
    "print(t2)\n",
    "print(\"*\"*30)\n",
    "\n",
    "print(np.vstack((t1,t2)))\n",
    "print(\"*\"*30)\n",
    "print(np.hstack((t1,t2)))"
   ]
  },
  {
   "cell_type": "code",
   "execution_count": 96,
   "metadata": {},
   "outputs": [
    {
     "data": {
      "text/plain": [
       "20"
      ]
     },
     "execution_count": 96,
     "metadata": {},
     "output_type": "execute_result"
    }
   ],
   "source": [
    "a = 10 if 3<2 else 20\n",
    "a"
   ]
  },
  {
   "cell_type": "code",
   "execution_count": null,
   "metadata": {},
   "outputs": [],
   "source": []
  }
 ],
 "metadata": {
  "kernelspec": {
   "display_name": "Python 3",
   "language": "python",
   "name": "python3"
  },
  "language_info": {
   "codemirror_mode": {
    "name": "ipython",
    "version": 3
   },
   "file_extension": ".py",
   "mimetype": "text/x-python",
   "name": "python",
   "nbconvert_exporter": "python",
   "pygments_lexer": "ipython3",
   "version": "3.6.8"
  }
 },
 "nbformat": 4,
 "nbformat_minor": 2
}
