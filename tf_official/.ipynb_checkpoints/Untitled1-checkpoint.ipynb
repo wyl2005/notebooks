{
 "cells": [
  {
   "cell_type": "code",
   "execution_count": null,
   "metadata": {},
   "outputs": [],
   "source": []
  },
  {
   "cell_type": "code",
   "execution_count": 9,
   "metadata": {},
   "outputs": [
    {
     "name": "stdout",
     "output_type": "stream",
     "text": [
      "1.14.0\n",
      "2.2.4-tf\n",
      "Tensor(\"Const_10:0\", shape=(), dtype=float32)\n",
      "Tensor(\"Const_11:0\", shape=(), dtype=float32)\n",
      "Tensor(\"add_5:0\", shape=(), dtype=float32)\n",
      "7.0\n",
      "{'ab': (3.0, 4.0), 'total': 7.0}\n"
     ]
    }
   ],
   "source": [
    "import numpy as np\n",
    "import tensorflow as tf\n",
    "from tensorflow.keras import layers\n",
    "\n",
    "print(tf.VERSION)\n",
    "print(tf.keras.__version__)\n",
    "\n",
    "a = tf.constant(3.0,dtype=tf.float32)\n",
    "b = tf.constant(4.0)\n",
    "total = a + b\n",
    "print(a)\n",
    "print(b)\n",
    "print(total)\n",
    "\n",
    "#writer = tf.summary.FileWriter('.')\n",
    "#writer.add_graph(tf.get_default_graph())\n",
    "\n",
    "sess = tf.Session()\n",
    "print(sess.run(total))\n",
    "print(sess.run({'ab':(a,b), 'total':(total)}))"
   ]
  }
 ],
 "metadata": {
  "kernelspec": {
   "display_name": "Python 3",
   "language": "python",
   "name": "python3"
  },
  "language_info": {
   "codemirror_mode": {
    "name": "ipython",
    "version": 3
   },
   "file_extension": ".py",
   "mimetype": "text/x-python",
   "name": "python",
   "nbconvert_exporter": "python",
   "pygments_lexer": "ipython3",
   "version": "3.6.8"
  }
 },
 "nbformat": 4,
 "nbformat_minor": 2
}
