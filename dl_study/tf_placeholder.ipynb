{
 "cells": [
  {
   "cell_type": "code",
   "execution_count": 3,
   "metadata": {},
   "outputs": [],
   "source": [
    "import tensorflow as tf\n",
    "import numpy as np"
   ]
  },
  {
   "cell_type": "code",
   "execution_count": 2,
   "metadata": {},
   "outputs": [
    {
     "name": "stdout",
     "output_type": "stream",
     "text": [
      "200\n"
     ]
    }
   ],
   "source": [
    "a = tf.placeholder(tf.int32)\n",
    "b = tf.placeholder(tf.int32)\n",
    "\n",
    "c = tf.multiply(a, b)\n",
    "with tf.Session() as sess:\n",
    "    print(sess.run(c, feed_dict={a:10, b:20}))"
   ]
  },
  {
   "cell_type": "code",
   "execution_count": 28,
   "metadata": {},
   "outputs": [
    {
     "name": "stdout",
     "output_type": "stream",
     "text": [
      "[[0. 1. 2.]\n",
      " [3. 4. 5.]]\n",
      "[[0. 1.]\n",
      " [2. 3.]\n",
      " [4. 5.]]\n",
      "[[10 13]\n",
      " [28 40]]\n",
      "a:  [[0 1 2]\n",
      " [3 4 5]]\n",
      "[[10 13]\n",
      " [28 40]]\n"
     ]
    },
    {
     "data": {
      "text/plain": [
       "numpy.ndarray"
      ]
     },
     "execution_count": 28,
     "metadata": {},
     "output_type": "execute_result"
    }
   ],
   "source": [
    "a = tf.placeholder(tf.int32, [None,None])\n",
    "b = tf.placeholder(tf.int32, [None,None])\n",
    "\n",
    "c = tf.matmul(a, b)\n",
    "\n",
    "aa = np.arange(6.0).reshape([2,3])\n",
    "print(aa)\n",
    "bb = np.arange(6.0).reshape([3,2])\n",
    "print(bb)\n",
    "\n",
    "with tf.Session() as sess:\n",
    "    print(sess.run(c, feed_dict={a:aa, b:bb}))\n",
    "    print(\"a: \" , sess.run(a, feed_dict={a:aa, b:bb}))\n",
    "    \n",
    "    cc = sess.run(c, feed_dict={a:aa, b:bb})\n",
    "print(cc)"
   ]
  },
  {
   "cell_type": "code",
   "execution_count": 33,
   "metadata": {},
   "outputs": [
    {
     "data": {
      "text/plain": [
       "array([11.5, 34. ])"
      ]
     },
     "execution_count": 33,
     "metadata": {},
     "output_type": "execute_result"
    }
   ],
   "source": [
    "cc.mean(axis=1)"
   ]
  },
  {
   "cell_type": "code",
   "execution_count": 5,
   "metadata": {},
   "outputs": [
    {
     "name": "stdout",
     "output_type": "stream",
     "text": [
      "Help on function placeholder in module tensorflow.python.ops.array_ops:\n",
      "\n",
      "placeholder(dtype, shape=None, name=None)\n",
      "    Inserts a placeholder for a tensor that will be always fed.\n",
      "    \n",
      "    **Important**: This tensor will produce an error if evaluated. Its value must\n",
      "    be fed using the `feed_dict` optional argument to `Session.run()`,\n",
      "    `Tensor.eval()`, or `Operation.run()`.\n",
      "    \n",
      "    For example:\n",
      "    \n",
      "    ```python\n",
      "    x = tf.compat.v1.placeholder(tf.float32, shape=(1024, 1024))\n",
      "    y = tf.matmul(x, x)\n",
      "    \n",
      "    with tf.compat.v1.Session() as sess:\n",
      "      print(sess.run(y))  # ERROR: will fail because x was not fed.\n",
      "    \n",
      "      rand_array = np.random.rand(1024, 1024)\n",
      "      print(sess.run(y, feed_dict={x: rand_array}))  # Will succeed.\n",
      "    ```\n",
      "    \n",
      "    @compatibility(eager)\n",
      "    Placeholders are not compatible with eager execution.\n",
      "    @end_compatibility\n",
      "    \n",
      "    Args:\n",
      "      dtype: The type of elements in the tensor to be fed.\n",
      "      shape: The shape of the tensor to be fed (optional). If the shape is not\n",
      "        specified, you can feed a tensor of any shape.\n",
      "      name: A name for the operation (optional).\n",
      "    \n",
      "    Returns:\n",
      "      A `Tensor` that may be used as a handle for feeding a value, but not\n",
      "      evaluated directly.\n",
      "    \n",
      "    Raises:\n",
      "      RuntimeError: if eager execution is enabled\n",
      "\n"
     ]
    }
   ],
   "source": [
    "help(tf.placeholder)"
   ]
  },
  {
   "cell_type": "code",
   "execution_count": null,
   "metadata": {},
   "outputs": [],
   "source": []
  },
  {
   "cell_type": "code",
   "execution_count": null,
   "metadata": {},
   "outputs": [],
   "source": []
  },
  {
   "cell_type": "code",
   "execution_count": null,
   "metadata": {},
   "outputs": [],
   "source": []
  }
 ],
 "metadata": {
  "kernelspec": {
   "display_name": "Python 3",
   "language": "python",
   "name": "python3"
  },
  "language_info": {
   "codemirror_mode": {
    "name": "ipython",
    "version": 3
   },
   "file_extension": ".py",
   "mimetype": "text/x-python",
   "name": "python",
   "nbconvert_exporter": "python",
   "pygments_lexer": "ipython3",
   "version": "3.6.8"
  }
 },
 "nbformat": 4,
 "nbformat_minor": 2
}
