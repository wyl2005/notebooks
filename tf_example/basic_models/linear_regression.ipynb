{
 "cells": [
  {
   "cell_type": "code",
   "execution_count": 29,
   "metadata": {},
   "outputs": [],
   "source": [
    "import tensorflow as tf\n",
    "import numpy\n",
    "import matplotlib.pyplot as plt"
   ]
  },
  {
   "cell_type": "code",
   "execution_count": null,
   "metadata": {},
   "outputs": [],
   "source": [
    "# Parameters\n",
    "learning_rate = 0.01\n",
    "training_epochs = 1000\n",
    "display_step = 50"
   ]
  },
  {
   "cell_type": "code",
   "execution_count": 58,
   "metadata": {},
   "outputs": [
    {
     "name": "stdout",
     "output_type": "stream",
     "text": [
      "3.3 1.7\n",
      "4.4 2.76\n",
      "5.5 2.09\n",
      "6.71 3.19\n",
      "6.93 1.694\n",
      "4.168 1.573\n",
      "9.779 3.366\n",
      "6.182 2.596\n",
      "7.59 2.53\n",
      "2.167 1.221\n",
      "7.042 2.827\n",
      "10.791 3.465\n",
      "5.313 1.65\n",
      "7.997 2.904\n",
      "5.654 2.42\n",
      "9.27 2.94\n",
      "3.1 1.3\n"
     ]
    }
   ],
   "source": [
    "# Training Data\n",
    "train_X = numpy.asarray([3.3,4.4,5.5,6.71,6.93,4.168,9.779,6.182,7.59,2.167,\n",
    "                         7.042,10.791,5.313,7.997,5.654,9.27,3.1])\n",
    "train_Y = numpy.asarray([1.7,2.76,2.09,3.19,1.694,1.573,3.366,2.596,2.53,1.221,\n",
    "                         2.827,3.465,1.65,2.904,2.42,2.94,1.3])\n",
    "n_samples = train_X.shape[0]\n",
    "a=zip(train_X, train_Y)\n",
    "\n",
    "for (i,j) in a:\n",
    "    print(i,j)"
   ]
  },
  {
   "cell_type": "code",
   "execution_count": 42,
   "metadata": {},
   "outputs": [
    {
     "data": {
      "text/plain": [
       "0.27248342604136494"
      ]
     },
     "execution_count": 42,
     "metadata": {},
     "output_type": "execute_result"
    }
   ],
   "source": [
    "# tf Graph Input\n",
    "X = tf.placeholder(\"float\")\n",
    "Y = tf.placeholder(\"float\")\n",
    "\n",
    "# Set model weights\n",
    "W = tf.Variable(numpy.random.randn(), name=\"weight\")\n",
    "b = tf.Variable(numpy.random.randn(), name=\"bias\")\n",
    "numpy.random.randn()"
   ]
  },
  {
   "cell_type": "code",
   "execution_count": 43,
   "metadata": {},
   "outputs": [],
   "source": [
    "#Construct a linear model\n",
    "pred = tf.add(tf.multiply(X, W), b)"
   ]
  },
  {
   "cell_type": "code",
   "execution_count": 44,
   "metadata": {},
   "outputs": [],
   "source": [
    "# Mean squared error\n",
    "cost = tf.reduce_sum(tf.pow(pred-Y, 2))/(2*n_samples)\n",
    "#help(tf.pow)\n",
    "optimizer = tf.train.GradientDescentOptimizer(learning_rate).minimize(cost)\n"
   ]
  },
  {
   "cell_type": "code",
   "execution_count": 45,
   "metadata": {},
   "outputs": [],
   "source": [
    "init = tf.global_variables_initializer()"
   ]
  },
  {
   "cell_type": "code",
   "execution_count": 53,
   "metadata": {},
   "outputs": [
    {
     "name": "stdout",
     "output_type": "stream",
     "text": [
      "Epoch: 0050 cost=0.197064668 W=0.443341 b=-0.592340\n",
      "Epoch: 0100 cost=0.183190539 W=0.431818 b=-0.509445\n",
      "Epoch: 0150 cost=0.170918614 W=0.420980 b=-0.431479\n",
      "Epoch: 0200 cost=0.160063863 W=0.410787 b=-0.358149\n",
      "Epoch: 0250 cost=0.150462762 W=0.401200 b=-0.289181\n",
      "Epoch: 0300 cost=0.141970545 W=0.392184 b=-0.224316\n",
      "Epoch: 0350 cost=0.134459153 W=0.383703 b=-0.163308\n",
      "Epoch: 0400 cost=0.127815455 W=0.375727 b=-0.105928\n",
      "Epoch: 0450 cost=0.121939130 W=0.368225 b=-0.051961\n",
      "Epoch: 0500 cost=0.116741642 W=0.361170 b=-0.001203\n",
      "Epoch: 0550 cost=0.112144567 W=0.354534 b=0.046535\n",
      "Epoch: 0600 cost=0.108078621 W=0.348292 b=0.091435\n",
      "Epoch: 0650 cost=0.104482479 W=0.342422 b=0.133663\n",
      "Epoch: 0700 cost=0.101301856 W=0.336901 b=0.173381\n",
      "Epoch: 0750 cost=0.098488756 W=0.331709 b=0.210736\n",
      "Epoch: 0800 cost=0.096000805 W=0.326825 b=0.245869\n",
      "Epoch: 0850 cost=0.093800381 W=0.322232 b=0.278913\n",
      "Epoch: 0900 cost=0.091854267 W=0.317911 b=0.309992\n",
      "Epoch: 0950 cost=0.090133116 W=0.313848 b=0.339222\n",
      "Epoch: 1000 cost=0.088611007 W=0.310027 b=0.366714\n",
      "optimization finished!\n",
      "Training cost=0.088611, W=0.310027, b=0.366714\n"
     ]
    },
    {
     "data": {
      "image/png": "[encoded data removed]",
      "text/plain": [
       "<Figure size 432x288 with 1 Axes>"
      ]
     },
     "metadata": {
      "needs_background": "light"
     },
     "output_type": "display_data"
    }
   ],
   "source": [
    "with tf.Session() as sess:\n",
    "    sess.run(init)\n",
    "    \n",
    "    #Fit all training data\n",
    "    for epoch in range(training_epochs):\n",
    "        for (x,y) in zip(train_X, train_Y):\n",
    "            sess.run(optimizer, feed_dict={X:x, Y:y})\n",
    "            \n",
    "        #display logs per epoch step\n",
    "        if(epoch+1) % display_step == 0:\n",
    "            c = sess.run(cost, feed_dict={X:train_X,Y:train_Y})\n",
    "            print(\"Epoch: %04d cost=%.9f W=%f b=%f\" %(epoch+1, c, sess.run(W), sess.run(b)))\n",
    "            \n",
    "    print(\"optimization finished!\")\n",
    "    training_cost = sess.run(cost, feed_dict={X:train_X, Y:train_Y})\n",
    "    print(\"Training cost=%f, W=%f, b=%f\" % (training_cost, sess.run(W), sess.run(b)))\n",
    "    \n",
    "    \n",
    "    #Graphic display\n",
    "    plt.plot(train_X, train_Y, 'ro', label='Original data')\n",
    "    plt.plot(train_X, sess.run(W)*train_X+sess.run(b), label='Fitted line')\n",
    "    plt.legend()\n",
    "    plt.show()"
   ]
  },
  {
   "cell_type": "code",
   "execution_count": 40,
   "metadata": {},
   "outputs": [
    {
     "name": "stdout",
     "output_type": "stream",
     "text": [
      "Help on class zip in module builtins:\n",
      "\n",
      "class zip(object)\n",
      " |  zip(iter1 [,iter2 [...]]) --> zip object\n",
      " |  \n",
      " |  Return a zip object whose .__next__() method returns a tuple where\n",
      " |  the i-th element comes from the i-th iterable argument.  The .__next__()\n",
      " |  method continues until the shortest iterable in the argument sequence\n",
      " |  is exhausted and then it raises StopIteration.\n",
      " |  \n",
      " |  Methods defined here:\n",
      " |  \n",
      " |  __getattribute__(self, name, /)\n",
      " |      Return getattr(self, name).\n",
      " |  \n",
      " |  __iter__(self, /)\n",
      " |      Implement iter(self).\n",
      " |  \n",
      " |  __new__(*args, **kwargs) from builtins.type\n",
      " |      Create and return a new object.  See help(type) for accurate signature.\n",
      " |  \n",
      " |  __next__(self, /)\n",
      " |      Implement next(self).\n",
      " |  \n",
      " |  __reduce__(...)\n",
      " |      Return state information for pickling.\n",
      "\n"
     ]
    }
   ],
   "source": [
    "help(zip)"
   ]
  },
  {
   "cell_type": "code",
   "execution_count": null,
   "metadata": {},
   "outputs": [],
   "source": []
  },
  {
   "cell_type": "code",
   "execution_count": null,
   "metadata": {},
   "outputs": [],
   "source": []
  },
  {
   "cell_type": "code",
   "execution_count": null,
   "metadata": {},
   "outputs": [],
   "source": []
  },
  {
   "cell_type": "code",
   "execution_count": null,
   "metadata": {},
   "outputs": [],
   "source": []
  },
  {
   "cell_type": "code",
   "execution_count": null,
   "metadata": {},
   "outputs": [],
   "source": []
  },
  {
   "cell_type": "code",
   "execution_count": null,
   "metadata": {},
   "outputs": [],
   "source": []
  },
  {
   "cell_type": "code",
   "execution_count": null,
   "metadata": {},
   "outputs": [],
   "source": []
  }
 ],
 "metadata": {
  "kernelspec": {
   "display_name": "Python 3",
   "language": "python",
   "name": "python3"
  },
  "language_info": {
   "codemirror_mode": {
    "name": "ipython",
    "version": 3
   },
   "file_extension": ".py",
   "mimetype": "text/x-python",
   "name": "python",
   "nbconvert_exporter": "python",
   "pygments_lexer": "ipython3",
   "version": "3.6.8"
  }
 },
 "nbformat": 4,
 "nbformat_minor": 2
}
