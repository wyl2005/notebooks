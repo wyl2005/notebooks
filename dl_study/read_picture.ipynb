{
 "cells": [
  {
   "cell_type": "code",
   "execution_count": 1,
   "metadata": {},
   "outputs": [],
   "source": [
    "import tensorflow as tf\n",
    "import os"
   ]
  },
  {
   "cell_type": "code",
   "execution_count": 2,
   "metadata": {},
   "outputs": [],
   "source": [
    "FLAGS = tf.app.flags.FLAGS\n",
    "tf.app.flags.DEFINE_string(\"f\", \"\", \"kernel\")\n",
    "tf.app.flags.DEFINE_string(\"dog_dir\", \"./data/dog\", \"文件的目录\")"
   ]
  },
  {
   "cell_type": "code",
   "execution_count": 3,
   "metadata": {
    "scrolled": true
   },
   "outputs": [
    {
     "name": "stderr",
     "output_type": "stream",
     "text": [
      "W0204 02:59:45.754449 139641895147328 deprecation.py:323] From <ipython-input-3-fc45f36d98de>:6: string_input_producer (from tensorflow.python.training.input) is deprecated and will be removed in a future version.\n",
      "Instructions for updating:\n",
      "Queue-based input pipelines have been replaced by `tf.data`. Use `tf.data.Dataset.from_tensor_slices(string_tensor).shuffle(tf.shape(input_tensor, out_type=tf.int64)[0]).repeat(num_epochs)`. If `shuffle=False`, omit the `.shuffle(...)`.\n",
      "W0204 02:59:45.797697 139641895147328 deprecation.py:323] From /usr/local/lib/python3.6/dist-packages/tensorflow/python/training/input.py:278: input_producer (from tensorflow.python.training.input) is deprecated and will be removed in a future version.\n",
      "Instructions for updating:\n",
      "Queue-based input pipelines have been replaced by `tf.data`. Use `tf.data.Dataset.from_tensor_slices(input_tensor).shuffle(tf.shape(input_tensor, out_type=tf.int64)[0]).repeat(num_epochs)`. If `shuffle=False`, omit the `.shuffle(...)`.\n",
      "W0204 02:59:45.804041 139641895147328 deprecation.py:323] From /usr/local/lib/python3.6/dist-packages/tensorflow/python/training/input.py:190: limit_epochs (from tensorflow.python.training.input) is deprecated and will be removed in a future version.\n",
      "Instructions for updating:\n",
      "Queue-based input pipelines have been replaced by `tf.data`. Use `tf.data.Dataset.from_tensors(tensor).repeat(num_epochs)`.\n",
      "W0204 02:59:45.815072 139641895147328 deprecation.py:323] From /usr/local/lib/python3.6/dist-packages/tensorflow/python/training/input.py:199: QueueRunner.__init__ (from tensorflow.python.training.queue_runner_impl) is deprecated and will be removed in a future version.\n",
      "Instructions for updating:\n",
      "To construct input pipelines, use the `tf.data` module.\n",
      "W0204 02:59:45.821842 139641895147328 deprecation.py:323] From /usr/local/lib/python3.6/dist-packages/tensorflow/python/training/input.py:199: add_queue_runner (from tensorflow.python.training.queue_runner_impl) is deprecated and will be removed in a future version.\n",
      "Instructions for updating:\n",
      "To construct input pipelines, use the `tf.data` module.\n",
      "W0204 02:59:45.842923 139641895147328 deprecation.py:323] From <ipython-input-3-fc45f36d98de>:9: WholeFileReader.__init__ (from tensorflow.python.ops.io_ops) is deprecated and will be removed in a future version.\n",
      "Instructions for updating:\n",
      "Queue-based input pipelines have been replaced by `tf.data`. Use `tf.data.Dataset.map(tf.read_file)`.\n",
      "W0204 02:59:45.876090 139641895147328 deprecation.py:323] From <ipython-input-3-fc45f36d98de>:30: batch (from tensorflow.python.training.input) is deprecated and will be removed in a future version.\n",
      "Instructions for updating:\n",
      "Queue-based input pipelines have been replaced by `tf.data`. Use `tf.data.Dataset.batch(batch_size)` (or `padded_batch(...)` if `dynamic_pad=True`).\n"
     ]
    },
    {
     "name": "stdout",
     "output_type": "stream",
     "text": [
      "Tensor(\"ReaderReadV2:1\", shape=(), dtype=string)\n",
      "Tensor(\"DecodeJpeg:0\", shape=(?, ?, ?), dtype=uint8)\n",
      "Tensor(\"resize/Squeeze:0\", shape=(200, 200, ?), dtype=float32)\n",
      "Tensor(\"resize/Squeeze:0\", shape=(200, 200, 3), dtype=float32)\n",
      "Tensor(\"batch:0\", shape=(20, 200, 200, 3), dtype=float32)\n"
     ]
    }
   ],
   "source": [
    "# 读取狗图片并转换成张量\n",
    "\n",
    "filelist= [os.path.join(FLAGS.dog_dir, i) for i in os.listdir(FLAGS.dog_dir)]\n",
    "\n",
    "#1. 构造文件队列\n",
    "file_queue = tf.train.string_input_producer(filelist)\n",
    "\n",
    "# 2. 构造阅读器去读取图片内容（默认读取一张图片）\n",
    "reader = tf.WholeFileReader()\n",
    "key, value = reader.read(file_queue)\n",
    "\n",
    "print(value)\n",
    "\n",
    "# 3. 对读取的图片数据进行解码\n",
    "image = tf.image.decode_jpeg(value)\n",
    "\n",
    "print(image)\n",
    "\n",
    "# 4. 处理图片大小（统一大小）, resize后，图片数据 uint8 --> float32\n",
    "image_resize= tf.image.resize_images(image, [200, 200]) \n",
    "print(image_resize) \n",
    "# 一定要把样本的形状固定 [200, 200,3], 在批处理时要求所有数据形状必须定义\n",
    "image_resize.set_shape([200,200,3])\n",
    "print(image_resize)\n",
    "\n",
    "# 5. 批处理\n",
    "image_batch = tf.train.batch([image_resize],\n",
    "                             batch_size=20,\n",
    "                            num_threads=1,\n",
    "                            capacity=20)\n",
    "\n",
    "print(image_batch)"
   ]
  },
  {
   "cell_type": "code",
   "execution_count": 5,
   "metadata": {},
   "outputs": [
    {
     "name": "stdout",
     "output_type": "stream",
     "text": [
      "b'./data/dog/dog.18.jpg'\n",
      "(428, 362, 3)\n",
      "[[[ 77.        43.        18.      ]\n",
      "  [ 65.        41.        21.      ]\n",
      "  [ 37.        25.        13.      ]\n",
      "  ...\n",
      "  [207.5      212.5      215.5     ]\n",
      "  [208.       213.       216.      ]\n",
      "  [208.5      213.5      216.5     ]]\n",
      "\n",
      " [[ 74.26      42.        18.74    ]\n",
      "  [ 57.15      34.02      13.585   ]\n",
      "  [ 34.13      21.26      11.87    ]\n",
      "  ...\n",
      "  [208.435    213.435    216.435   ]\n",
      "  [209.       214.       217.      ]\n",
      "  [211.24     216.24     219.24    ]]\n",
      "\n",
      " [[ 71.52      42.74      21.74    ]\n",
      "  [ 48.04      27.15       8.28    ]\n",
      "  [ 40.7       29.92      20.18    ]\n",
      "  ...\n",
      "  [209.74     214.74     217.74    ]\n",
      "  [210.74     215.74     218.74    ]\n",
      "  [210.76     215.76     218.76    ]]\n",
      "\n",
      " ...\n",
      "\n",
      " [[121.04993  112.43994   94.65991 ]\n",
      "  [123.744934 114.744934  98.35492 ]\n",
      "  [126.21997  116.21997  104.21997 ]\n",
      "  ...\n",
      "  [ 87.        37.        11.390015]\n",
      "  [ 80.        33.         7.      ]\n",
      "  [ 79.21997   36.        11.      ]]\n",
      "\n",
      " [[118.04004  110.04004   91.04004 ]\n",
      "  [120.650024 111.650024  94.650024]\n",
      "  [126.       116.       104.      ]\n",
      "  ...\n",
      "  [ 85.869995  35.869995  10.869995]\n",
      "  [ 81.26001   34.26001    8.26001 ]\n",
      "  [ 77.        35.        10.      ]]\n",
      "\n",
      " [[122.609985 114.609985  95.609985]\n",
      "  [120.349976 111.349976  94.349976]\n",
      "  [121.21997  111.21997   99.21997 ]\n",
      "  ...\n",
      "  [ 84.869995  34.869995   9.869995]\n",
      "  [ 83.130005  36.130005  10.130005]\n",
      "  [ 77.130005  35.130005  10.130005]]]\n"
     ]
    }
   ],
   "source": [
    "with tf.Session() as sess:\n",
    "    #线程协调器\n",
    "    coord = tf.train.Coordinator()\n",
    "    \n",
    "    # 开启读文件的线程\n",
    "    threads = tf.train.start_queue_runners(sess, coord=coord)\n",
    "    \n",
    "    print(sess.run(key))\n",
    "    print(sess.run(image).shape)\n",
    "    \n",
    "    print(sess.run(image_resize))\n",
    "    coord.request_stop()\n",
    "    coord.join()"
   ]
  },
  {
   "cell_type": "code",
   "execution_count": null,
   "metadata": {},
   "outputs": [],
   "source": []
  },
  {
   "cell_type": "code",
   "execution_count": null,
   "metadata": {},
   "outputs": [],
   "source": []
  },
  {
   "cell_type": "code",
   "execution_count": null,
   "metadata": {},
   "outputs": [],
   "source": []
  }
 ],
 "metadata": {
  "kernelspec": {
   "display_name": "Python 3",
   "language": "python",
   "name": "python3"
  },
  "language_info": {
   "codemirror_mode": {
    "name": "ipython",
    "version": 3
   },
   "file_extension": ".py",
   "mimetype": "text/x-python",
   "name": "python",
   "nbconvert_exporter": "python",
   "pygments_lexer": "ipython3",
   "version": "3.6.8"
  }
 },
 "nbformat": 4,
 "nbformat_minor": 2
}
