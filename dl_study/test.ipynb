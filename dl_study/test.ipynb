{
 "cells": [
  {
   "cell_type": "code",
   "execution_count": 1,
   "metadata": {},
   "outputs": [],
   "source": [
    "import tensorflow as tf"
   ]
  },
  {
   "cell_type": "code",
   "execution_count": null,
   "metadata": {},
   "outputs": [],
   "source": [
    "tf.__version__"
   ]
  },
  {
   "cell_type": "code",
   "execution_count": null,
   "metadata": {},
   "outputs": [],
   "source": [
    "g = tf.Graph()\n",
    "print(g)\n",
    "with g.as_default():\n",
    "    c = tf.constant(11.0)\n",
    "    print(c.graph)"
   ]
  },
  {
   "cell_type": "code",
   "execution_count": null,
   "metadata": {},
   "outputs": [],
   "source": [
    "#加法\n",
    "a = tf.constant(5.0)\n",
    "b = tf.constant(6.0)"
   ]
  },
  {
   "cell_type": "code",
   "execution_count": null,
   "metadata": {},
   "outputs": [],
   "source": [
    "print(a)"
   ]
  },
  {
   "cell_type": "code",
   "execution_count": null,
   "metadata": {},
   "outputs": [],
   "source": [
    "sum1 = tf.add(a, b)"
   ]
  },
  {
   "cell_type": "code",
   "execution_count": null,
   "metadata": {},
   "outputs": [],
   "source": [
    "print(sum1)"
   ]
  },
  {
   "cell_type": "code",
   "execution_count": null,
   "metadata": {},
   "outputs": [],
   "source": [
    "# 默认的这张图，相当于是给程序分配一段内存\n",
    "graph1= tf.get_default_graph()\n",
    "print(graph1)"
   ]
  },
  {
   "cell_type": "code",
   "execution_count": null,
   "metadata": {},
   "outputs": [],
   "source": [
    "with tf.Session(config=tf.ConfigProto(log_device_placement=True)) as sess:\n",
    "    print(sess.run(sum1))\n",
    "    print(sum1.graph)\n",
    "    print(c.graph)"
   ]
  },
  {
   "cell_type": "code",
   "execution_count": null,
   "metadata": {},
   "outputs": [],
   "source": [
    "#placeholder是一个占位符，feed_dict是一个字典\n",
    "i1 = tf.placeholder(tf.float32)\n",
    "i2 = tf.placeholder(tf.float32)\n",
    "o = tf.add(i1, i2)\n",
    "\n",
    "with tf.Session(config=tf.ConfigProto(log_device_placement=True)) as sess:\n",
    "    print(sess)\n",
    "    print(sess.run(o, feed_dict={i1:10.0, i2:30}))\n",
    "    print(o)\n"
   ]
  },
  {
   "cell_type": "code",
   "execution_count": null,
   "metadata": {},
   "outputs": [],
   "source": [
    "print(i1)"
   ]
  },
  {
   "cell_type": "code",
   "execution_count": null,
   "metadata": {},
   "outputs": [],
   "source": [
    "print(b)"
   ]
  },
  {
   "cell_type": "code",
   "execution_count": null,
   "metadata": {},
   "outputs": [],
   "source": [
    "#创建随机值张量\n",
    "z = tf.zeros([3,4], tf.float32)\n",
    "isess = tf.InteractiveSession()\n",
    "print(z.eval())\n",
    "\n",
    "z.eval()\n",
    "a = tf.constant(3.0)\n",
    "print(a.eval())\n",
    "\n",
    "isess.close()\n",
    "\n",
    "tf.ones((3,4), tf.float32).eval()\n",
    "\n",
    "#创建随机张量\n",
    "b = tf.random_normal([4,4], mean=0, stddev=1,dtype=tf.float32)\n",
    "b.eval()\n",
    "\n",
    "\n",
    "c = tf.cast([[1,2,3],[4,5,6]],tf.float32)\n",
    "c.name"
   ]
  },
  {
   "cell_type": "code",
   "execution_count": null,
   "metadata": {},
   "outputs": [],
   "source": [
    "a = [[1,2,3],[4,5,6]]\n",
    "b = [[7,8,9],[10,11,12]]\n",
    "\n",
    "c= tf.concat([a,b],axis=0)\n",
    "c.eval()\n",
    "tf.cast(c,tf.float32).eval()"
   ]
  },
  {
   "cell_type": "code",
   "execution_count": null,
   "metadata": {},
   "outputs": [],
   "source": [
    "# 变量OP\n",
    "# 变量OP能够持久化保存，普通张量OP不能。\n",
    "a = tf.constant([1,2,3,4,5])\n",
    "var = tf.Variable(tf.random_normal([2,3],mean=0.0,stddev=1.0))\n",
    "print(a, var)\n",
    "\n",
    "# 必须做一步显示的初始化OP\n",
    "init_op = tf.global_variables_initializer()\n",
    "with tf.Session() as sess:\n",
    "    #help(sess.run)\n",
    "    #必须运行初始化OP\n",
    "    sess.run(init_op)\n",
    "    print(sess.run([a, var]))"
   ]
  },
  {
   "cell_type": "code",
   "execution_count": null,
   "metadata": {},
   "outputs": [],
   "source": []
  },
  {
   "cell_type": "code",
   "execution_count": null,
   "metadata": {},
   "outputs": [],
   "source": [
    "a =(5,) \n",
    "type(a)"
   ]
  },
  {
   "cell_type": "code",
   "execution_count": null,
   "metadata": {},
   "outputs": [],
   "source": [
    "a = [10, 2,2,2,3,4,5,5,19]\n",
    "b = tf.slice(a, [1], [8])\n",
    "\n",
    "with tf.Session() as sess:\n",
    "    print(b.eval())"
   ]
  },
  {
   "cell_type": "code",
   "execution_count": null,
   "metadata": {},
   "outputs": [],
   "source": [
    "help(tf.slice)"
   ]
  },
  {
   "cell_type": "code",
   "execution_count": null,
   "metadata": {},
   "outputs": [],
   "source": [
    "\n",
    "help(tf.reduce_mean)"
   ]
  },
  {
   "cell_type": "code",
   "execution_count": null,
   "metadata": {},
   "outputs": [],
   "source": [
    "help(tf.matmul)"
   ]
  },
  {
   "cell_type": "code",
   "execution_count": null,
   "metadata": {},
   "outputs": [],
   "source": [
    "a = [[1,1., 1], [1,2,3]]\n",
    "b = [[3],[3.],[3]]\n",
    "with tf.Session() as sess:\n",
    "    print(tf.reduce_mean(a).eval())\n",
    "    print(tf.square([2]).eval())\n",
    "    print(tf.square([2,3]).eval())\n",
    "    print(tf.matmul(a,b).eval())\n",
    "    "
   ]
  },
  {
   "cell_type": "code",
   "execution_count": null,
   "metadata": {},
   "outputs": [],
   "source": [
    "a=[[1,2,13,4,5],[0,0,18,20,30]]\n",
    "with tf.Session() as sess:\n",
    "    print(tf.argmax(a,1).eval())\n",
    "    print(tf.equal([1,2,4], [1,2,3]).eval())"
   ]
  },
  {
   "cell_type": "code",
   "execution_count": null,
   "metadata": {},
   "outputs": [],
   "source": []
  }
 ],
 "metadata": {
  "kernelspec": {
   "display_name": "Python 3",
   "language": "python",
   "name": "python3"
  },
  "language_info": {
   "codemirror_mode": {
    "name": "ipython",
    "version": 3
   },
   "file_extension": ".py",
   "mimetype": "text/x-python",
   "name": "python",
   "nbconvert_exporter": "python",
   "pygments_lexer": "ipython3",
   "version": "3.6.8"
  }
 },
 "nbformat": 4,
 "nbformat_minor": 2
}
