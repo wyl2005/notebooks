{
 "cells": [
  {
   "cell_type": "code",
   "execution_count": 1,
   "metadata": {},
   "outputs": [],
   "source": [
    "import tensorflow as tf\n",
    "import os\n"
   ]
  },
  {
   "cell_type": "code",
   "execution_count": 2,
   "metadata": {},
   "outputs": [
    {
     "name": "stderr",
     "output_type": "stream",
     "text": [
      "WARNING: Logging before flag parsing goes to stderr.\n",
      "W0210 06:54:03.387861 140318562977600 deprecation.py:323] From <ipython-input-2-2de6ad4b773c>:5: string_input_producer (from tensorflow.python.training.input) is deprecated and will be removed in a future version.\n",
      "Instructions for updating:\n",
      "Queue-based input pipelines have been replaced by `tf.data`. Use `tf.data.Dataset.from_tensor_slices(string_tensor).shuffle(tf.shape(input_tensor, out_type=tf.int64)[0]).repeat(num_epochs)`. If `shuffle=False`, omit the `.shuffle(...)`.\n",
      "W0210 06:54:03.572474 140318562977600 deprecation.py:323] From /usr/local/lib/python3.6/dist-packages/tensorflow/python/training/input.py:278: input_producer (from tensorflow.python.training.input) is deprecated and will be removed in a future version.\n",
      "Instructions for updating:\n",
      "Queue-based input pipelines have been replaced by `tf.data`. Use `tf.data.Dataset.from_tensor_slices(input_tensor).shuffle(tf.shape(input_tensor, out_type=tf.int64)[0]).repeat(num_epochs)`. If `shuffle=False`, omit the `.shuffle(...)`.\n",
      "W0210 06:54:03.577749 140318562977600 deprecation.py:323] From /usr/local/lib/python3.6/dist-packages/tensorflow/python/training/input.py:190: limit_epochs (from tensorflow.python.training.input) is deprecated and will be removed in a future version.\n",
      "Instructions for updating:\n",
      "Queue-based input pipelines have been replaced by `tf.data`. Use `tf.data.Dataset.from_tensors(tensor).repeat(num_epochs)`.\n",
      "W0210 06:54:03.587430 140318562977600 deprecation.py:323] From /usr/local/lib/python3.6/dist-packages/tensorflow/python/training/input.py:199: QueueRunner.__init__ (from tensorflow.python.training.queue_runner_impl) is deprecated and will be removed in a future version.\n",
      "Instructions for updating:\n",
      "To construct input pipelines, use the `tf.data` module.\n",
      "W0210 06:54:03.594933 140318562977600 deprecation.py:323] From /usr/local/lib/python3.6/dist-packages/tensorflow/python/training/input.py:199: add_queue_runner (from tensorflow.python.training.queue_runner_impl) is deprecated and will be removed in a future version.\n",
      "Instructions for updating:\n",
      "To construct input pipelines, use the `tf.data` module.\n",
      "W0210 06:54:03.610709 140318562977600 deprecation.py:323] From <ipython-input-2-2de6ad4b773c>:7: TextLineReader.__init__ (from tensorflow.python.ops.io_ops) is deprecated and will be removed in a future version.\n",
      "Instructions for updating:\n",
      "Queue-based input pipelines have been replaced by `tf.data`. Use `tf.data.TextLineDataset`.\n",
      "W0210 06:54:03.640008 140318562977600 deprecation.py:323] From <ipython-input-2-2de6ad4b773c>:21: batch (from tensorflow.python.training.input) is deprecated and will be removed in a future version.\n",
      "Instructions for updating:\n",
      "Queue-based input pipelines have been replaced by `tf.data`. Use `tf.data.Dataset.batch(batch_size)` (or `padded_batch(...)` if `dynamic_pad=True`).\n",
      "W0210 06:54:03.817776 140318562977600 deprecation.py:323] From <ipython-input-2-2de6ad4b773c>:29: start_queue_runners (from tensorflow.python.training.queue_runner_impl) is deprecated and will be removed in a future version.\n",
      "Instructions for updating:\n",
      "To construct input pipelines, use the `tf.data` module.\n"
     ]
    },
    {
     "name": "stdout",
     "output_type": "stream",
     "text": [
      "Tensor(\"ReaderReadV2:0\", shape=(), dtype=string)\n",
      "Tensor(\"ReaderReadV2:1\", shape=(), dtype=string)\n",
      "Tensor(\"DecodeCSV:0\", shape=(), dtype=string)\n",
      "Tensor(\"DecodeCSV:2\", shape=(), dtype=int32)\n",
      "[b'Sea2', 8]\n",
      "[b'./data/csv_data/B.csv:2', b'Bee2,B2,5']\n",
      "[array([b'Sea1', b'Sea3', b'Alpha1', b'Alpha2', b'Alpha3', b'Bee1',\n",
      "       b'Bee3', b'Sea1', b'Sea2'], dtype=object)]\n",
      "[array([b'C3', b'A1', b'A2', b'A3', b'B1', b'B2', b'B3', b'B1', b'B2'],\n",
      "      dtype=object)]\n"
     ]
    }
   ],
   "source": [
    "data_dir = \"./data/csv_data\"\n",
    "filelist = [os.path.join(data_dir, i) for i in os.listdir(data_dir)]\n",
    "filelist\n",
    "\n",
    "file_queue = tf.train.string_input_producer(filelist)\n",
    "\n",
    "reader = tf.TextLineReader()\n",
    "\n",
    "key, value = reader.read(file_queue)\n",
    "\n",
    "print(key)\n",
    "print(value)\n",
    "\n",
    "# 3. decode\n",
    "records = [[\"None\"],[\"None\"], [3]]\n",
    "a, b, c = tf.decode_csv(value, record_defaults=records)\n",
    "\n",
    "a_batch , b_batch = tf.train.batch([a,b],\n",
    "                                  batch_size=9,\n",
    "                                  num_threads =1,\n",
    "                                  capacity=9)\n",
    "\n",
    "print(a)\n",
    "print(c)\n",
    "with tf.Session() as sess:\n",
    "    \n",
    "    # 开启读取文件的线程\n",
    "    coord=tf.train.Coordinator()\n",
    "    threads = tf.train.start_queue_runners(sess, coord=coord)\n",
    "    \n",
    "    print(sess.run([a, c]))\n",
    "    print(sess.run([key, value]))\n",
    "    \n",
    "    print(sess.run([a_batch]))\n",
    "    print(sess.run([b_batch]))\n",
    "    # 回收子线程\n",
    "    coord.request_stop()\n",
    "    coord.join(threads)"
   ]
  },
  {
   "cell_type": "code",
   "execution_count": null,
   "metadata": {},
   "outputs": [],
   "source": []
  }
 ],
 "metadata": {
  "kernelspec": {
   "display_name": "Python 3",
   "language": "python",
   "name": "python3"
  },
  "language_info": {
   "codemirror_mode": {
    "name": "ipython",
    "version": 3
   },
   "file_extension": ".py",
   "mimetype": "text/x-python",
   "name": "python",
   "nbconvert_exporter": "python",
   "pygments_lexer": "ipython3",
   "version": "3.6.8"
  }
 },
 "nbformat": 4,
 "nbformat_minor": 2
}
