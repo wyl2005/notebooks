{
 "cells": [
  {
   "cell_type": "code",
   "execution_count": 9,
   "metadata": {},
   "outputs": [],
   "source": [
    "import tensorflow as tf"
   ]
  },
  {
   "cell_type": "code",
   "execution_count": 2,
   "metadata": {},
   "outputs": [
    {
     "data": {
      "text/plain": [
       "'1.14.0'"
      ]
     },
     "execution_count": 2,
     "metadata": {},
     "output_type": "execute_result"
    }
   ],
   "source": [
    "tf.__version__"
   ]
  },
  {
   "cell_type": "code",
   "execution_count": 46,
   "metadata": {},
   "outputs": [
    {
     "name": "stdout",
     "output_type": "stream",
     "text": [
      "<tensorflow.python.framework.ops.Graph object at 0x7fb779e05160>\n",
      "<tensorflow.python.framework.ops.Graph object at 0x7fb779e05160>\n"
     ]
    }
   ],
   "source": [
    "g = tf.Graph()\n",
    "print(g)\n",
    "with g.as_default():\n",
    "    c = tf.constant(11.0)\n",
    "    print(c.graph)"
   ]
  },
  {
   "cell_type": "code",
   "execution_count": 3,
   "metadata": {},
   "outputs": [],
   "source": [
    "#加法\n",
    "a = tf.constant(5.0)\n",
    "b = tf.constant(6.0)"
   ]
  },
  {
   "cell_type": "code",
   "execution_count": 4,
   "metadata": {},
   "outputs": [
    {
     "name": "stdout",
     "output_type": "stream",
     "text": [
      "Tensor(\"Const:0\", shape=(), dtype=float32)\n"
     ]
    }
   ],
   "source": [
    "print(a)"
   ]
  },
  {
   "cell_type": "code",
   "execution_count": 5,
   "metadata": {},
   "outputs": [],
   "source": [
    "sum1 = tf.add(a, b)"
   ]
  },
  {
   "cell_type": "code",
   "execution_count": 6,
   "metadata": {},
   "outputs": [
    {
     "name": "stdout",
     "output_type": "stream",
     "text": [
      "Tensor(\"Add:0\", shape=(), dtype=float32)\n"
     ]
    }
   ],
   "source": [
    "print(sum1)"
   ]
  },
  {
   "cell_type": "code",
   "execution_count": 8,
   "metadata": {},
   "outputs": [
    {
     "name": "stdout",
     "output_type": "stream",
     "text": [
      "<tensorflow.python.framework.ops.Graph object at 0x7fb77acf2b00>\n"
     ]
    }
   ],
   "source": [
    "# 默认的这张图，相当于是给程序分配一段内存\n",
    "graph1= tf.get_default_graph()\n",
    "print(graph1)"
   ]
  },
  {
   "cell_type": "code",
   "execution_count": 52,
   "metadata": {},
   "outputs": [
    {
     "name": "stdout",
     "output_type": "stream",
     "text": [
      "11.0\n",
      "<tensorflow.python.framework.ops.Graph object at 0x7fb77acf2b00>\n",
      "<tensorflow.python.framework.ops.Graph object at 0x7fb779e05160>\n"
     ]
    }
   ],
   "source": [
    "with tf.Session(config=tf.ConfigProto(log_device_placement=True)) as sess:\n",
    "    print(sess.run(sum1))\n",
    "    print(sum1.graph)\n",
    "    print(c.graph)"
   ]
  },
  {
   "cell_type": "code",
   "execution_count": 55,
   "metadata": {},
   "outputs": [
    {
     "name": "stdout",
     "output_type": "stream",
     "text": [
      "<tensorflow.python.client.session.Session object at 0x7fb77acf7b00>\n",
      "40.0\n",
      "Tensor(\"Add_7:0\", dtype=float32)\n"
     ]
    }
   ],
   "source": [
    "#placeholder是一个占位符，feed_dict是一个字典\n",
    "i1 = tf.placeholder(tf.float32)\n",
    "i2 = tf.placeholder(tf.float32)\n",
    "o = tf.add(i1, i2)\n",
    "\n",
    "with tf.Session(config=tf.ConfigProto(log_device_placement=True)) as sess:\n",
    "    print(sess)\n",
    "    print(sess.run(o, feed_dict={i1:10.0, i2:30}))\n",
    "    print(o)\n"
   ]
  },
  {
   "cell_type": "code",
   "execution_count": 16,
   "metadata": {},
   "outputs": [
    {
     "name": "stdout",
     "output_type": "stream",
     "text": [
      "Tensor(\"Placeholder_6:0\", dtype=float32)\n"
     ]
    }
   ],
   "source": [
    "print(i1)"
   ]
  },
  {
   "cell_type": "code",
   "execution_count": 18,
   "metadata": {},
   "outputs": [
    {
     "name": "stdout",
     "output_type": "stream",
     "text": [
      "Tensor(\"Const_1:0\", shape=(), dtype=float32)\n"
     ]
    }
   ],
   "source": [
    "print(b)"
   ]
  },
  {
   "cell_type": "code",
   "execution_count": 68,
   "metadata": {},
   "outputs": [
    {
     "name": "stdout",
     "output_type": "stream",
     "text": [
      "[[0. 0. 0. 0.]\n",
      " [0. 0. 0. 0.]\n",
      " [0. 0. 0. 0.]]\n",
      "3.0\n"
     ]
    },
    {
     "data": {
      "text/plain": [
       "'Cast:0'"
      ]
     },
     "execution_count": 68,
     "metadata": {},
     "output_type": "execute_result"
    }
   ],
   "source": [
    "#创建随机值张量\n",
    "z = tf.zeros([3,4], tf.float32)\n",
    "isess = tf.InteractiveSession()\n",
    "print(z.eval())\n",
    "\n",
    "z.eval()\n",
    "a = tf.constant(3.0)\n",
    "print(a.eval())\n",
    "\n",
    "isess.close()\n",
    "\n",
    "tf.ones((3,4), tf.float32).eval()\n",
    "\n",
    "#创建随机张量\n",
    "b = tf.random_normal([4,4], mean=0, stddev=1,dtype=tf.float32)\n",
    "b.eval()\n",
    "\n",
    "\n",
    "c = tf.cast([[1,2,3],[4,5,6]],tf.float32)\n",
    "c.name"
   ]
  },
  {
   "cell_type": "code",
   "execution_count": 76,
   "metadata": {},
   "outputs": [
    {
     "data": {
      "text/plain": [
       "array([[ 1.,  2.,  3.],\n",
       "       [ 4.,  5.,  6.],\n",
       "       [ 7.,  8.,  9.],\n",
       "       [10., 11., 12.]], dtype=float32)"
      ]
     },
     "execution_count": 76,
     "metadata": {},
     "output_type": "execute_result"
    }
   ],
   "source": [
    "a = [[1,2,3],[4,5,6]]\n",
    "b = [[7,8,9],[10,11,12]]\n",
    "\n",
    "c= tf.concat([a,b],axis=0)\n",
    "c.eval()\n",
    "tf.cast(c,tf.float32).eval()"
   ]
  },
  {
   "cell_type": "code",
   "execution_count": 85,
   "metadata": {},
   "outputs": [
    {
     "name": "stdout",
     "output_type": "stream",
     "text": [
      "Tensor(\"Const_33:0\", shape=(5,), dtype=int32) <tf.Variable 'Variable_8:0' shape=(2, 3) dtype=float32_ref>\n",
      "[array([1, 2, 3, 4, 5], dtype=int32), array([[ 0.81836534, -0.53142774, -0.7248661 ],\n",
      "       [ 0.10854868,  0.03093818,  0.3692326 ]], dtype=float32)]\n"
     ]
    }
   ],
   "source": [
    "# 变量OP\n",
    "# 变量OP能够持久化保存，普通张量OP不能。\n",
    "a = tf.constant([1,2,3,4,5])\n",
    "var = tf.Variable(tf.random_normal([2,3],mean=0.0,stddev=1.0))\n",
    "print(a, var)\n",
    "\n",
    "# 必须做一步显示的初始化OP\n",
    "init_op = tf.global_variables_initializer()\n",
    "with tf.Session() as sess:\n",
    "    #help(sess.run)\n",
    "    #必须运行初始化OP\n",
    "    sess.run(init_op)\n",
    "    print(sess.run([a, var]))"
   ]
  },
  {
   "cell_type": "code",
   "execution_count": 27,
   "metadata": {},
   "outputs": [
    {
     "name": "stdout",
     "output_type": "stream",
     "text": [
      "[[0. 0. 0. 0.]\n",
      " [0. 0. 0. 0.]\n",
      " [0. 0. 0. 0.]]\n"
     ]
    }
   ],
   "source": []
  },
  {
   "cell_type": "code",
   "execution_count": null,
   "metadata": {},
   "outputs": [],
   "source": []
  },
  {
   "cell_type": "code",
   "execution_count": null,
   "metadata": {},
   "outputs": [],
   "source": []
  }
 ],
 "metadata": {
  "kernelspec": {
   "display_name": "Python 3",
   "language": "python",
   "name": "python3"
  },
  "language_info": {
   "codemirror_mode": {
    "name": "ipython",
    "version": 3
   },
   "file_extension": ".py",
   "mimetype": "text/x-python",
   "name": "python",
   "nbconvert_exporter": "python",
   "pygments_lexer": "ipython3",
   "version": "3.6.8"
  }
 },
 "nbformat": 4,
 "nbformat_minor": 2
}
