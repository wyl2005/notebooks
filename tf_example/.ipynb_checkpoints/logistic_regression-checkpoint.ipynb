{
 "cells": [
  {
   "cell_type": "code",
   "execution_count": 3,
   "metadata": {},
   "outputs": [
    {
     "name": "stderr",
     "output_type": "stream",
     "text": [
      "WARNING: Logging before flag parsing goes to stderr.\n",
      "W0720 04:07:21.904690 140400271300416 deprecation.py:323] From <ipython-input-3-85c2f6d87ea2>:5: read_data_sets (from tensorflow.contrib.learn.python.learn.datasets.mnist) is deprecated and will be removed in a future version.\n",
      "Instructions for updating:\n",
      "Please use alternatives such as official/mnist/dataset.py from tensorflow/models.\n",
      "W0720 04:07:21.906749 140400271300416 deprecation.py:323] From /usr/local/lib/python3.6/dist-packages/tensorflow/contrib/learn/python/learn/datasets/mnist.py:260: maybe_download (from tensorflow.contrib.learn.python.learn.datasets.base) is deprecated and will be removed in a future version.\n",
      "Instructions for updating:\n",
      "Please write your own downloading logic.\n",
      "W0720 04:07:21.909374 140400271300416 deprecation.py:323] From /usr/local/lib/python3.6/dist-packages/tensorflow/contrib/learn/python/learn/datasets/base.py:252: _internal_retry.<locals>.wrap.<locals>.wrapped_fn (from tensorflow.contrib.learn.python.learn.datasets.base) is deprecated and will be removed in a future version.\n",
      "Instructions for updating:\n",
      "Please use urllib or similar directly.\n",
      "W0720 04:07:32.806542 140400271300416 deprecation.py:323] From /usr/local/lib/python3.6/dist-packages/tensorflow/contrib/learn/python/learn/datasets/mnist.py:262: extract_images (from tensorflow.contrib.learn.python.learn.datasets.mnist) is deprecated and will be removed in a future version.\n",
      "Instructions for updating:\n",
      "Please use tf.data to implement this functionality.\n"
     ]
    },
    {
     "name": "stdout",
     "output_type": "stream",
     "text": [
      "Successfully downloaded train-images-idx3-ubyte.gz 9912422 bytes.\n",
      "Extracting /tmp/data/train-images-idx3-ubyte.gz\n"
     ]
    },
    {
     "name": "stderr",
     "output_type": "stream",
     "text": [
      "W0720 04:07:33.260004 140400271300416 deprecation.py:323] From /usr/local/lib/python3.6/dist-packages/tensorflow/contrib/learn/python/learn/datasets/mnist.py:267: extract_labels (from tensorflow.contrib.learn.python.learn.datasets.mnist) is deprecated and will be removed in a future version.\n",
      "Instructions for updating:\n",
      "Please use tf.data to implement this functionality.\n",
      "W0720 04:07:33.265024 140400271300416 deprecation.py:323] From /usr/local/lib/python3.6/dist-packages/tensorflow/contrib/learn/python/learn/datasets/mnist.py:110: dense_to_one_hot (from tensorflow.contrib.learn.python.learn.datasets.mnist) is deprecated and will be removed in a future version.\n",
      "Instructions for updating:\n",
      "Please use tf.one_hot on tensors.\n"
     ]
    },
    {
     "name": "stdout",
     "output_type": "stream",
     "text": [
      "Successfully downloaded train-labels-idx1-ubyte.gz 28881 bytes.\n",
      "Extracting /tmp/data/train-labels-idx1-ubyte.gz\n"
     ]
    },
    {
     "name": "stderr",
     "output_type": "stream",
     "text": [
      "W0720 04:07:35.329771 140400271300416 deprecation.py:323] From /usr/local/lib/python3.6/dist-packages/tensorflow/contrib/learn/python/learn/datasets/mnist.py:290: DataSet.__init__ (from tensorflow.contrib.learn.python.learn.datasets.mnist) is deprecated and will be removed in a future version.\n",
      "Instructions for updating:\n",
      "Please use alternatives such as official/mnist/dataset.py from tensorflow/models.\n"
     ]
    },
    {
     "name": "stdout",
     "output_type": "stream",
     "text": [
      "Successfully downloaded t10k-images-idx3-ubyte.gz 1648877 bytes.\n",
      "Extracting /tmp/data/t10k-images-idx3-ubyte.gz\n",
      "Successfully downloaded t10k-labels-idx1-ubyte.gz 4542 bytes.\n",
      "Extracting /tmp/data/t10k-labels-idx1-ubyte.gz\n"
     ]
    }
   ],
   "source": [
    "import tensorflow as tf\n",
    "\n",
    "from tensorflow.examples.tutorials.mnist import input_data\n",
    "\n",
    "mnist = input_data.read_data_sets('/tmp/data', one_hot=True)"
   ]
  },
  {
   "cell_type": "code",
   "execution_count": 10,
   "metadata": {},
   "outputs": [
    {
     "data": {
      "text/plain": [
       "55000"
      ]
     },
     "execution_count": 10,
     "metadata": {},
     "output_type": "execute_result"
    }
   ],
   "source": [
    "learning_rate = 0.01\n",
    "training_epochs = 25\n",
    "batch_size = 100\n",
    "display_step = 1\n",
    "\n",
    "x = tf.placeholder(tf.float32, [None, 784])\n",
    "y = tf.placeholder(tf.float32, [None, 10])\n",
    "\n",
    "W = tf.Variable(tf.zeros([784, 10]))\n",
    "b = tf.Variable(tf.zeros([10]))\n",
    "\n",
    "# construct model\n",
    "pred = tf.nn.softmax(tf.matmul(x, W) +b) #softmax\n",
    "\n",
    "#Minimize errror using cross entropy\n",
    "cost = tf.reduce_mean(-tf.reduce_sum(y*tf.log(pred), reduction_indices=1))\n",
    "#Gradient Descent\n",
    "optimizer = tf.train.GradientDescentOptimizer(learning_rate).minimize(cost)\n",
    "\n",
    "#Initialize the variables\n",
    "init = tf.global_variables_initializer()\n",
    "mnist.train.num_examples"
   ]
  },
  {
   "cell_type": "code",
   "execution_count": 13,
   "metadata": {},
   "outputs": [
    {
     "name": "stdout",
     "output_type": "stream",
     "text": [
      "epoch:1, cost=1.184030592\n",
      "epoch:2, cost=0.665261414\n",
      "epoch:3, cost=0.552771907\n",
      "epoch:4, cost=0.498627316\n",
      "epoch:5, cost=0.465482486\n",
      "epoch:6, cost=0.442606852\n",
      "epoch:7, cost=0.425525119\n",
      "epoch:8, cost=0.412145663\n",
      "epoch:9, cost=0.401386839\n",
      "epoch:10, cost=0.392361843\n",
      "epoch:11, cost=0.384820014\n",
      "epoch:12, cost=0.378177681\n",
      "epoch:13, cost=0.372380595\n",
      "epoch:14, cost=0.367316900\n",
      "epoch:15, cost=0.362715635\n",
      "epoch:16, cost=0.358648788\n",
      "epoch:17, cost=0.354869930\n",
      "epoch:18, cost=0.351450085\n",
      "epoch:19, cost=0.348354377\n",
      "epoch:20, cost=0.345441688\n",
      "epoch:21, cost=0.342741637\n",
      "epoch:22, cost=0.340272145\n",
      "epoch:23, cost=0.337949425\n",
      "epoch:24, cost=0.335771094\n",
      "epoch:25, cost=0.333706992\n",
      "optimization Finished\n",
      "accuracy: 0.8896667\n"
     ]
    }
   ],
   "source": [
    "#start training\n",
    "\n",
    "with tf.Session() as sess:\n",
    "    sess.run(init)\n",
    "    \n",
    "    for epoch in range(training_epochs):\n",
    "        avg_cost = 0\n",
    "        total_batch = int(mnist.train.num_examples/batch_size)\n",
    "        #loop over all batchs\n",
    "        for i in range(total_batch):\n",
    "            batch_xs, batch_ys = mnist.train.next_batch(batch_size)\n",
    "            p, c = sess.run([optimizer, cost], feed_dict={x:batch_xs,\n",
    "                                                         y:batch_ys})\n",
    "            \n",
    "            #compute average loss\n",
    "            avg_cost += c / total_batch\n",
    "        #display logs per epoch step\n",
    "        if (epoch+1)%display_step ==0:\n",
    "            print('epoch:%d, cost=%.9f'%(epoch+1, avg_cost))\n",
    "    print(\"optimization Finished\")\n",
    "    \n",
    "    #test model\n",
    "    correct_prediction = tf.equal(tf.argmax(pred,1), tf.argmax(y,1))\n",
    "    \n",
    "    #calculate accuracy for 3000 examples\n",
    "    accuracy = tf.reduce_mean(tf.cast(correct_prediction, tf.float32))\n",
    "    print('accuracy:', accuracy.eval({x:mnist.test.images[:3000],y:mnist.test.labels[:3000]}))"
   ]
  },
  {
   "cell_type": "code",
   "execution_count": 16,
   "metadata": {},
   "outputs": [
    {
     "name": "stdout",
     "output_type": "stream",
     "text": [
      "Help on function cast in module tensorflow.python.ops.math_ops:\n",
      "\n",
      "cast(x, dtype, name=None)\n",
      "    Casts a tensor to a new type.\n",
      "    \n",
      "    The operation casts `x` (in case of `Tensor`) or `x.values`\n",
      "    (in case of `SparseTensor` or `IndexedSlices`) to `dtype`.\n",
      "    \n",
      "    For example:\n",
      "    \n",
      "    ```python\n",
      "    x = tf.constant([1.8, 2.2], dtype=tf.float32)\n",
      "    tf.cast(x, tf.int32)  # [1, 2], dtype=tf.int32\n",
      "    ```\n",
      "    \n",
      "    The operation supports data types (for `x` and `dtype`) of\n",
      "    `uint8`, `uint16`, `uint32`, `uint64`, `int8`, `int16`, `int32`, `int64`,\n",
      "    `float16`, `float32`, `float64`, `complex64`, `complex128`, `bfloat16`.\n",
      "    In case of casting from complex types (`complex64`, `complex128`) to real\n",
      "    types, only the real part of `x` is returned. In case of casting from real\n",
      "    types to complex types (`complex64`, `complex128`), the imaginary part of the\n",
      "    returned value is set to `0`. The handling of complex types here matches the\n",
      "    behavior of numpy.\n",
      "    \n",
      "    Args:\n",
      "      x: A `Tensor` or `SparseTensor` or `IndexedSlices` of numeric type. It could\n",
      "        be `uint8`, `uint16`, `uint32`, `uint64`, `int8`, `int16`, `int32`,\n",
      "        `int64`, `float16`, `float32`, `float64`, `complex64`, `complex128`,\n",
      "        `bfloat16`.\n",
      "      dtype: The destination type. The list of supported dtypes is the same as\n",
      "        `x`.\n",
      "      name: A name for the operation (optional).\n",
      "    \n",
      "    Returns:\n",
      "      A `Tensor` or `SparseTensor` or `IndexedSlices` with same shape as `x` and\n",
      "        same type as `dtype`.\n",
      "    \n",
      "    Raises:\n",
      "      TypeError: If `x` cannot be cast to the `dtype`.\n",
      "\n"
     ]
    }
   ],
   "source": [
    "help(tf.cast\n",
    "    )"
   ]
  },
  {
   "cell_type": "code",
   "execution_count": null,
   "metadata": {},
   "outputs": [],
   "source": []
  },
  {
   "cell_type": "code",
   "execution_count": null,
   "metadata": {},
   "outputs": [],
   "source": []
  },
  {
   "cell_type": "code",
   "execution_count": null,
   "metadata": {},
   "outputs": [],
   "source": []
  },
  {
   "cell_type": "code",
   "execution_count": null,
   "metadata": {},
   "outputs": [],
   "source": []
  },
  {
   "cell_type": "code",
   "execution_count": null,
   "metadata": {},
   "outputs": [],
   "source": []
  },
  {
   "cell_type": "code",
   "execution_count": null,
   "metadata": {},
   "outputs": [],
   "source": []
  },
  {
   "cell_type": "code",
   "execution_count": null,
   "metadata": {},
   "outputs": [],
   "source": []
  },
  {
   "cell_type": "code",
   "execution_count": null,
   "metadata": {},
   "outputs": [],
   "source": []
  },
  {
   "cell_type": "code",
   "execution_count": null,
   "metadata": {},
   "outputs": [],
   "source": []
  },
  {
   "cell_type": "code",
   "execution_count": null,
   "metadata": {},
   "outputs": [],
   "source": []
  },
  {
   "cell_type": "code",
   "execution_count": null,
   "metadata": {},
   "outputs": [],
   "source": []
  }
 ],
 "metadata": {
  "kernelspec": {
   "display_name": "Python 3",
   "language": "python",
   "name": "python3"
  },
  "language_info": {
   "codemirror_mode": {
    "name": "ipython",
    "version": 3
   },
   "file_extension": ".py",
   "mimetype": "text/x-python",
   "name": "python",
   "nbconvert_exporter": "python",
   "pygments_lexer": "ipython3",
   "version": "3.6.8"
  }
 },
 "nbformat": 4,
 "nbformat_minor": 2
}
