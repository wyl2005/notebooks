{
 "cells": [
  {
   "cell_type": "code",
   "execution_count": 170,
   "metadata": {
    "scrolled": true
   },
   "outputs": [
    {
     "name": "stdout",
     "output_type": "stream",
     "text": [
      "1.14.0\n"
     ]
    }
   ],
   "source": [
    "from __future__ import absolute_import, division, print_function, unicode_literals\n",
    "\n",
    "import tensorflow as tf\n",
    "from tensorflow import keras\n",
    "\n",
    "import numpy as np\n",
    "\n",
    "print(tf.__version__)"
   ]
  },
  {
   "cell_type": "code",
   "execution_count": 171,
   "metadata": {},
   "outputs": [],
   "source": [
    "imdb = keras.datasets.imdb\n",
    "(train_data, train_labels), (test_data, test_labels) = imdb.load_data(num_words=10000)"
   ]
  },
  {
   "cell_type": "code",
   "execution_count": 172,
   "metadata": {},
   "outputs": [
    {
     "name": "stdout",
     "output_type": "stream",
     "text": [
      "(25000,)\n",
      "max len:2494\n",
      "max len index: 17934\n"
     ]
    },
    {
     "data": {
      "text/plain": [
       "2494"
      ]
     },
     "execution_count": 172,
     "metadata": {},
     "output_type": "execute_result"
    }
   ],
   "source": [
    "# print(\"trainig entries: {}, labels: {}\".format(len(train_data), len(train_labels)))\n",
    "#help(train_data)\n",
    "len(train_data[1])\n",
    "print(train_data.shape)\n",
    "\n",
    "# train_data is ndarray , (25000,)\n",
    "a = [len(train_data[i]) for i in range(25000)]\n",
    "len(a)\n",
    "print('max len:%s' % max(a))\n",
    "print('max len index: %s' % a.index(max(a)))\n",
    "\n",
    "a[17934]\n",
    "#train_data[17934]\n",
    "\n",
    "#train_labels.shape\n",
    "#print(train_data[0], len(train_data[0]))\n",
    "#len(train_data[0]),  len(train_data[1]), len(train_data[2])\n",
    "#train_labels[1]"
   ]
  },
  {
   "cell_type": "code",
   "execution_count": null,
   "metadata": {},
   "outputs": [],
   "source": []
  },
  {
   "cell_type": "code",
   "execution_count": 187,
   "metadata": {},
   "outputs": [
    {
     "name": "stdout",
     "output_type": "stream",
     "text": [
      "88584\n",
      "88588\n"
     ]
    },
    {
     "data": {
      "text/plain": [
       "608"
      ]
     },
     "execution_count": 187,
     "metadata": {},
     "output_type": "execute_result"
    }
   ],
   "source": [
    "word_index = imdb.get_word_index()\n",
    "print(len(word_index))\n",
    "\n",
    "word_index = {k:(v+3) for k,v in word_index.items()}\n",
    "word_index[\"<PAD>\"] = 0\n",
    "word_index[\"<START>\"] = 1\n",
    "word_index[\"<UNK>\"] = 2 #unknown\n",
    "word_index[\"<UNUSED>\"] = 3\n",
    "\n",
    "reverse_word_index = dict([(value, key) for (key, value) in word_index.items()])\n",
    "\n",
    "#print([(value, key) for (key, value) in word_index.items()])\n",
    "print(len([(value, key) for (key, value) in word_index.items()]))\n",
    "\n",
    "def decode_review(text):\n",
    "    return ''.join([reverse_word_index.get(i, '?') for i in text])\n",
    "\n",
    "#help(reverse_word_index.get)\n",
    "reverse_word_index.get(2)\n",
    "word_index['ok']\n",
    "#help(word_index)\n",
    "word_index.get('ok')\n",
    "word_index['ok']"
   ]
  },
  {
   "cell_type": "code",
   "execution_count": 174,
   "metadata": {
    "scrolled": true
   },
   "outputs": [
    {
     "data": {
      "text/plain": [
       "\"<START> this film was just brilliant casting location scenery story direction everyone's really suited the part they played and you could just imagine being there robert <UNK> is an amazing actor and now the same being director <UNK> father came from the same scottish island as myself so i loved the fact there was a real connection with this film the witty remarks throughout the film were great it was just brilliant so much that i bought the film as soon as it was released for <UNK> and would recommend it to everyone to watch and the fly fishing was amazing really cried at the end it was so sad and you know what they say if you cry at a film it must have been good and this definitely was also <UNK> to the two little boy's that played the <UNK> of norman and paul they were just brilliant children are often left out of the <UNK> list i think because the stars that play them all grown up are such a big profile for the whole film but these children are amazing and should be praised for what they have done don't you think the whole story was so lovely because it was true and was someone's life after all that was shared with us all\""
      ]
     },
     "execution_count": 174,
     "metadata": {},
     "output_type": "execute_result"
    }
   ],
   "source": [
    "decode_review(train_data[0])\n",
    "#decode_review(train_data[17934])\n",
    "#len(train_data[0])"
   ]
  },
  {
   "cell_type": "code",
   "execution_count": 176,
   "metadata": {},
   "outputs": [
    {
     "name": "stdout",
     "output_type": "stream",
     "text": [
      "256 256\n",
      "[   1   14   22   16   43  530  973 1622 1385   65  458 4468   66 3941\n",
      "    4  173   36  256    5   25  100   43  838  112   50  670    2    9\n",
      "   35  480  284    5  150    4  172  112  167    2  336  385   39    4\n",
      "  172 4536 1111   17  546   38   13  447    4  192   50   16    6  147\n",
      " 2025   19   14   22    4 1920 4613  469    4   22   71   87   12   16\n",
      "   43  530   38   76   15   13 1247    4   22   17  515   17   12   16\n",
      "  626   18    2    5   62  386   12    8  316    8  106    5    4 2223\n",
      " 5244   16  480   66 3785   33    4  130   12   16   38  619    5   25\n",
      "  124   51   36  135   48   25 1415   33    6   22   12  215   28   77\n",
      "   52    5   14  407   16   82    2    8    4  107  117 5952   15  256\n",
      "    4    2    7 3766    5  723   36   71   43  530  476   26  400  317\n",
      "   46    7    4    2 1029   13  104   88    4  381   15  297   98   32\n",
      " 2071   56   26  141    6  194 7486   18    4  226   22   21  134  476\n",
      "   26  480    5  144   30 5535   18   51   36   28  224   92   25  104\n",
      "    4  226   65   16   38 1334   88   12   16  283    5   16 4472  113\n",
      "  103   32   15   16 5345   19  178   32    0    0    0    0    0    0\n",
      "    0    0    0    0    0    0    0    0    0    0    0    0    0    0\n",
      "    0    0    0    0    0    0    0    0    0    0    0    0    0    0\n",
      "    0    0    0    0]\n"
     ]
    },
    {
     "data": {
      "text/plain": [
       "14"
      ]
     },
     "execution_count": 176,
     "metadata": {},
     "output_type": "execute_result"
    }
   ],
   "source": [
    "train_data = keras.preprocessing.sequence.pad_sequences(train_data,\n",
    "                                                       value=word_index[\"<PAD>\"],\n",
    "                                                       padding='post',\n",
    "                                                       maxlen=256)\n",
    "\n",
    "test_data = keras.preprocessing.sequence.pad_sequences(test_data,\n",
    "                                                       value=word_index[\"<PAD>\"],\n",
    "                                                       padding='post',\n",
    "                                                       maxlen=256)\n",
    "\n",
    "print(len(train_data[0]), len(train_data[1]))\n",
    "#help(train_data[0])\n",
    "train_data[0].shape\n",
    "print(train_data[0])\n",
    "#decode_review(train_data[0])"
   ]
  },
  {
   "cell_type": "code",
   "execution_count": 194,
   "metadata": {},
   "outputs": [
    {
     "name": "stdout",
     "output_type": "stream",
     "text": [
      "Model: \"sequential_6\"\n",
      "_________________________________________________________________\n",
      "Layer (type)                 Output Shape              Param #   \n",
      "=================================================================\n",
      "embedding_6 (Embedding)      (None, None, 16)          160000    \n",
      "_________________________________________________________________\n",
      "global_average_pooling1d_6 ( (None, 16)                0         \n",
      "_________________________________________________________________\n",
      "dense_11 (Dense)             (None, 16)                272       \n",
      "_________________________________________________________________\n",
      "dense_12 (Dense)             (None, 1)                 17        \n",
      "=================================================================\n",
      "Total params: 160,289\n",
      "Trainable params: 160,289\n",
      "Non-trainable params: 0\n",
      "_________________________________________________________________\n"
     ]
    }
   ],
   "source": [
    "vocab_size = 10000\n",
    "model = keras.Sequential()\n",
    "model.add(keras.layers.Embedding(vocab_size, 16))\n",
    "model.add(keras.layers.GlobalAveragePooling1D())\n",
    "model.add(keras.layers.Dense(16, activation=tf.nn.relu))\n",
    "model.add(keras.layers.Dense(1, activation=tf.nn.sigmoid))\n",
    "\n",
    "model.summary()"
   ]
  },
  {
   "cell_type": "code",
   "execution_count": 197,
   "metadata": {},
   "outputs": [],
   "source": [
    "model.compile(optimizer='adam',\n",
    "             loss='binary_crossentropy',\n",
    "             metrics=['acc'])\n"
   ]
  },
  {
   "cell_type": "code",
   "execution_count": 210,
   "metadata": {},
   "outputs": [],
   "source": [
    "x_val = train_data[:10000]\n",
    "partial_x_train = train_data[10000:]\n",
    "\n",
    "y_val = train_labels[:10000]\n",
    "partial_y_train = train_labels[10000:]"
   ]
  },
  {
   "cell_type": "code",
   "execution_count": 212,
   "metadata": {},
   "outputs": [
    {
     "name": "stdout",
     "output_type": "stream",
     "text": [
      "Train on 15000 samples, validate on 10000 samples\n",
      "Epoch 1/40\n",
      "15000/15000 [==============================] - 1s 57us/sample - loss: 0.0917 - acc: 0.9770 - val_loss: 0.3120 - val_acc: 0.8825\n",
      "Epoch 2/40\n",
      "15000/15000 [==============================] - 1s 54us/sample - loss: 0.0879 - acc: 0.9777 - val_loss: 0.3161 - val_acc: 0.8813\n",
      "Epoch 3/40\n",
      "15000/15000 [==============================] - 1s 53us/sample - loss: 0.0847 - acc: 0.9783 - val_loss: 0.3187 - val_acc: 0.8825\n",
      "Epoch 4/40\n",
      "15000/15000 [==============================] - 1s 54us/sample - loss: 0.0816 - acc: 0.9803 - val_loss: 0.3231 - val_acc: 0.8803\n",
      "Epoch 5/40\n",
      "15000/15000 [==============================] - 1s 56us/sample - loss: 0.0787 - acc: 0.9807 - val_loss: 0.3258 - val_acc: 0.8815\n",
      "Epoch 6/40\n",
      "15000/15000 [==============================] - 1s 54us/sample - loss: 0.0755 - acc: 0.9825 - val_loss: 0.3316 - val_acc: 0.8777\n",
      "Epoch 7/40\n",
      "15000/15000 [==============================] - 1s 54us/sample - loss: 0.0730 - acc: 0.9837 - val_loss: 0.3340 - val_acc: 0.8788\n",
      "Epoch 8/40\n",
      "15000/15000 [==============================] - 1s 55us/sample - loss: 0.0700 - acc: 0.9843 - val_loss: 0.3375 - val_acc: 0.8795\n",
      "Epoch 9/40\n",
      "15000/15000 [==============================] - 1s 53us/sample - loss: 0.0676 - acc: 0.9853 - val_loss: 0.3427 - val_acc: 0.8791\n",
      "Epoch 10/40\n",
      "15000/15000 [==============================] - 1s 56us/sample - loss: 0.0648 - acc: 0.9861 - val_loss: 0.3459 - val_acc: 0.8786\n",
      "Epoch 11/40\n",
      "15000/15000 [==============================] - 1s 54us/sample - loss: 0.0624 - acc: 0.9869 - val_loss: 0.3509 - val_acc: 0.8770\n",
      "Epoch 12/40\n",
      "15000/15000 [==============================] - 1s 55us/sample - loss: 0.0602 - acc: 0.9877 - val_loss: 0.3578 - val_acc: 0.8743\n",
      "Epoch 13/40\n",
      "15000/15000 [==============================] - 1s 54us/sample - loss: 0.0583 - acc: 0.9884 - val_loss: 0.3600 - val_acc: 0.8752\n",
      "Epoch 14/40\n",
      "15000/15000 [==============================] - 1s 55us/sample - loss: 0.0556 - acc: 0.9891 - val_loss: 0.3646 - val_acc: 0.8769\n",
      "Epoch 15/40\n",
      "15000/15000 [==============================] - 1s 55us/sample - loss: 0.0536 - acc: 0.9898 - val_loss: 0.3686 - val_acc: 0.8768\n",
      "Epoch 16/40\n",
      "15000/15000 [==============================] - 1s 55us/sample - loss: 0.0515 - acc: 0.9907 - val_loss: 0.3753 - val_acc: 0.8738\n",
      "Epoch 17/40\n",
      "15000/15000 [==============================] - 1s 54us/sample - loss: 0.0493 - acc: 0.9911 - val_loss: 0.3785 - val_acc: 0.8759\n",
      "Epoch 18/40\n",
      "15000/15000 [==============================] - 1s 55us/sample - loss: 0.0480 - acc: 0.9920 - val_loss: 0.3852 - val_acc: 0.8730\n",
      "Epoch 19/40\n",
      "15000/15000 [==============================] - 1s 56us/sample - loss: 0.0458 - acc: 0.9923 - val_loss: 0.3885 - val_acc: 0.8743\n",
      "Epoch 20/40\n",
      "15000/15000 [==============================] - 1s 55us/sample - loss: 0.0439 - acc: 0.9927 - val_loss: 0.3936 - val_acc: 0.8738\n",
      "Epoch 21/40\n",
      "15000/15000 [==============================] - 1s 55us/sample - loss: 0.0421 - acc: 0.9933 - val_loss: 0.3983 - val_acc: 0.8737\n",
      "Epoch 22/40\n",
      "15000/15000 [==============================] - 1s 54us/sample - loss: 0.0404 - acc: 0.9938 - val_loss: 0.4036 - val_acc: 0.8735\n",
      "Epoch 23/40\n",
      "15000/15000 [==============================] - 1s 55us/sample - loss: 0.0389 - acc: 0.9941 - val_loss: 0.4091 - val_acc: 0.8730\n",
      "Epoch 24/40\n",
      "15000/15000 [==============================] - 1s 55us/sample - loss: 0.0374 - acc: 0.9947 - val_loss: 0.4141 - val_acc: 0.8728\n",
      "Epoch 25/40\n",
      "15000/15000 [==============================] - 1s 56us/sample - loss: 0.0360 - acc: 0.9945 - val_loss: 0.4229 - val_acc: 0.8717\n",
      "Epoch 26/40\n",
      "15000/15000 [==============================] - 1s 54us/sample - loss: 0.0350 - acc: 0.9948 - val_loss: 0.4257 - val_acc: 0.8722\n",
      "Epoch 27/40\n",
      "15000/15000 [==============================] - 1s 53us/sample - loss: 0.0331 - acc: 0.9955 - val_loss: 0.4300 - val_acc: 0.8717\n",
      "Epoch 28/40\n",
      "15000/15000 [==============================] - 1s 55us/sample - loss: 0.0318 - acc: 0.9957 - val_loss: 0.4359 - val_acc: 0.8714\n",
      "Epoch 29/40\n",
      "15000/15000 [==============================] - 1s 56us/sample - loss: 0.0309 - acc: 0.9961 - val_loss: 0.4423 - val_acc: 0.8708\n",
      "Epoch 30/40\n",
      "15000/15000 [==============================] - 1s 56us/sample - loss: 0.0300 - acc: 0.9961 - val_loss: 0.4489 - val_acc: 0.8703\n",
      "Epoch 31/40\n",
      "15000/15000 [==============================] - 1s 55us/sample - loss: 0.0285 - acc: 0.9968 - val_loss: 0.4529 - val_acc: 0.8683\n",
      "Epoch 32/40\n",
      "15000/15000 [==============================] - 1s 55us/sample - loss: 0.0274 - acc: 0.9965 - val_loss: 0.4575 - val_acc: 0.8689\n",
      "Epoch 33/40\n",
      "15000/15000 [==============================] - 1s 53us/sample - loss: 0.0264 - acc: 0.9969 - val_loss: 0.4645 - val_acc: 0.8694\n",
      "Epoch 34/40\n",
      "15000/15000 [==============================] - 1s 53us/sample - loss: 0.0253 - acc: 0.9969 - val_loss: 0.4682 - val_acc: 0.8689\n",
      "Epoch 35/40\n",
      "15000/15000 [==============================] - 1s 56us/sample - loss: 0.0242 - acc: 0.9973 - val_loss: 0.4730 - val_acc: 0.8680\n",
      "Epoch 36/40\n",
      "15000/15000 [==============================] - 1s 54us/sample - loss: 0.0233 - acc: 0.9973 - val_loss: 0.4803 - val_acc: 0.8678\n",
      "Epoch 37/40\n",
      "15000/15000 [==============================] - 1s 55us/sample - loss: 0.0223 - acc: 0.9977 - val_loss: 0.4854 - val_acc: 0.8670\n",
      "Epoch 38/40\n",
      "15000/15000 [==============================] - 1s 52us/sample - loss: 0.0215 - acc: 0.9977 - val_loss: 0.4905 - val_acc: 0.8671\n",
      "Epoch 39/40\n",
      "15000/15000 [==============================] - 1s 54us/sample - loss: 0.0207 - acc: 0.9979 - val_loss: 0.4958 - val_acc: 0.8667\n",
      "Epoch 40/40\n",
      "15000/15000 [==============================] - 1s 55us/sample - loss: 0.0198 - acc: 0.9983 - val_loss: 0.5002 - val_acc: 0.8670\n"
     ]
    }
   ],
   "source": [
    "history = model.fit(partial_x_train,\n",
    "                   partial_y_train,\n",
    "                   epochs=40,\n",
    "                   batch_size=512,\n",
    "                   validation_data=(x_val, y_val),\n",
    "                   verbose=1)"
   ]
  },
  {
   "cell_type": "code",
   "execution_count": 223,
   "metadata": {},
   "outputs": [
    {
     "data": {
      "text/plain": [
       "dict_keys(['loss', 'acc', 'val_loss', 'val_acc'])"
      ]
     },
     "execution_count": 223,
     "metadata": {},
     "output_type": "execute_result"
    }
   ],
   "source": [
    "history_dict = history.history\n",
    "history_dict.keys()"
   ]
  },
  {
   "cell_type": "code",
   "execution_count": 227,
   "metadata": {},
   "outputs": [
    {
     "data": {
      "image/png": "[encoded data removed]",
      "text/plain": [
       "<Figure size 432x288 with 1 Axes>"
      ]
     },
     "metadata": {
      "needs_background": "light"
     },
     "output_type": "display_data"
    }
   ],
   "source": [
    "import matplotlib.pyplot as plt\n",
    "\n",
    "acc = history_dict['acc']\n",
    "val_acc = history_dict['val_acc']\n",
    "loss = history_dict['loss']\n",
    "val_loss = history_dict['val_loss']\n",
    "\n",
    "epochs = range(1, len(acc)+1)\n",
    "\n",
    "# \"bo\" is for \"blue dot\"\n",
    "plt.plot(epochs, loss, 'bo', label='Training_loss')\n",
    "# b is for \"solid blue line\"\n",
    "plt.plot(epochs, val_loss, 'b', label='Validation_loss')\n",
    "plt.title('Training and validation loss')\n",
    "plt.xlabel('Epochs')\n",
    "plt.ylabel('Loss')\n",
    "plt.legend()\n",
    "\n",
    "plt.show()"
   ]
  },
  {
   "cell_type": "code",
   "execution_count": 231,
   "metadata": {},
   "outputs": [
    {
     "data": {
      "image/png": "[encoded data removed]",
      "text/plain": [
       "<Figure size 432x288 with 1 Axes>"
      ]
     },
     "metadata": {
      "needs_background": "light"
     },
     "output_type": "display_data"
    }
   ],
   "source": [
    "plt.clf()\n",
    "\n",
    "plt.plot(epochs, acc, 'bo', label='Training acc')\n",
    "plt.plot(epochs, val_acc, 'b', label='Validation acc')\n",
    "plt.title('Trainging and validation accuracy')\n",
    "plt.xlabel('Epochs')\n",
    "plt.ylabel('Accuracy')\n",
    "plt.legend()\n",
    "\n",
    "plt.show()\n",
    "\n",
    "\n"
   ]
  }
 ],
 "metadata": {
  "kernelspec": {
   "display_name": "Python 3",
   "language": "python",
   "name": "python3"
  },
  "language_info": {
   "codemirror_mode": {
    "name": "ipython",
    "version": 3
   },
   "file_extension": ".py",
   "mimetype": "text/x-python",
   "name": "python",
   "nbconvert_exporter": "python",
   "pygments_lexer": "ipython3",
   "version": "3.6.8"
  }
 },
 "nbformat": 4,
 "nbformat_minor": 2
}
