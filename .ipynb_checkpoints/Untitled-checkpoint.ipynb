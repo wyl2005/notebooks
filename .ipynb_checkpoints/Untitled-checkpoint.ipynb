{
 "cells": [
  {
   "cell_type": "code",
   "execution_count": 27,
   "metadata": {},
   "outputs": [
    {
     "name": "stdout",
     "output_type": "stream",
     "text": [
      "Train on 1000 samples, validate on 100 samples\n",
      "Epoch 1/10\n",
      "1000/1000 [==============================] - 0s 208us/sample - loss: 12.2161 - acc: 0.0950 - val_loss: 14.0721 - val_acc: 0.1100\n",
      "Epoch 2/10\n",
      "1000/1000 [==============================] - 0s 80us/sample - loss: 18.3236 - acc: 0.0980 - val_loss: 25.4624 - val_acc: 0.1100\n",
      "Epoch 3/10\n",
      "1000/1000 [==============================] - 0s 79us/sample - loss: 30.2980 - acc: 0.1030 - val_loss: 40.4704 - val_acc: 0.1200\n",
      "Epoch 4/10\n",
      "1000/1000 [==============================] - 0s 67us/sample - loss: 52.2563 - acc: 0.0940 - val_loss: 69.1611 - val_acc: 0.1300\n",
      "Epoch 5/10\n",
      "1000/1000 [==============================] - 0s 77us/sample - loss: 85.4441 - acc: 0.0980 - val_loss: 109.2775 - val_acc: 0.0800\n",
      "Epoch 6/10\n",
      "1000/1000 [==============================] - 0s 86us/sample - loss: 127.5595 - acc: 0.0990 - val_loss: 154.4074 - val_acc: 0.0900\n",
      "Epoch 7/10\n",
      "1000/1000 [==============================] - 0s 68us/sample - loss: 172.4110 - acc: 0.0980 - val_loss: 206.8411 - val_acc: 0.0800\n",
      "Epoch 8/10\n",
      "1000/1000 [==============================] - 0s 70us/sample - loss: 223.1572 - acc: 0.0990 - val_loss: 255.8028 - val_acc: 0.0800\n",
      "Epoch 9/10\n",
      "1000/1000 [==============================] - 0s 72us/sample - loss: 270.7628 - acc: 0.0860 - val_loss: 308.4007 - val_acc: 0.1400\n",
      "Epoch 10/10\n",
      "1000/1000 [==============================] - 0s 76us/sample - loss: 324.0503 - acc: 0.0980 - val_loss: 348.2993 - val_acc: 0.1100\n",
      "1000/1000 [==============================] - 0s 32us/sample - loss: 334.6054 - acc: 0.1050\n"
     ]
    },
    {
     "ename": "NameError",
     "evalue": "name 'dataset' is not defined",
     "output_type": "error",
     "traceback": [
      "\u001b[0;31m---------------------------------------------------------------------------\u001b[0m",
      "\u001b[0;31mNameError\u001b[0m                                 Traceback (most recent call last)",
      "\u001b[0;32m<ipython-input-27-8c8d22ad4aac>\u001b[0m in \u001b[0;36m<module>\u001b[0;34m\u001b[0m\n\u001b[1;32m     27\u001b[0m \u001b[0mlabels\u001b[0m \u001b[0;34m=\u001b[0m \u001b[0mnp\u001b[0m\u001b[0;34m.\u001b[0m\u001b[0mrandom\u001b[0m\u001b[0;34m.\u001b[0m\u001b[0mrandom\u001b[0m\u001b[0;34m(\u001b[0m\u001b[0;34m(\u001b[0m\u001b[0;36m1000\u001b[0m\u001b[0;34m,\u001b[0m \u001b[0;36m10\u001b[0m\u001b[0;34m)\u001b[0m\u001b[0;34m)\u001b[0m\u001b[0;34m\u001b[0m\u001b[0;34m\u001b[0m\u001b[0m\n\u001b[1;32m     28\u001b[0m \u001b[0mmodel\u001b[0m\u001b[0;34m.\u001b[0m\u001b[0mevaluate\u001b[0m\u001b[0;34m(\u001b[0m\u001b[0mdata\u001b[0m\u001b[0;34m,\u001b[0m \u001b[0mlabels\u001b[0m\u001b[0;34m,\u001b[0m \u001b[0mbatch_size\u001b[0m\u001b[0;34m=\u001b[0m\u001b[0;36m32\u001b[0m\u001b[0;34m)\u001b[0m\u001b[0;34m\u001b[0m\u001b[0;34m\u001b[0m\u001b[0m\n\u001b[0;32m---> 29\u001b[0;31m \u001b[0mmodel\u001b[0m\u001b[0;34m.\u001b[0m\u001b[0mevaluate\u001b[0m\u001b[0;34m(\u001b[0m\u001b[0mdataset\u001b[0m\u001b[0;34m,\u001b[0m \u001b[0msteps\u001b[0m\u001b[0;34m=\u001b[0m\u001b[0;36m30\u001b[0m\u001b[0;34m)\u001b[0m\u001b[0;34m\u001b[0m\u001b[0;34m\u001b[0m\u001b[0m\n\u001b[0m\u001b[1;32m     30\u001b[0m \u001b[0;34m\u001b[0m\u001b[0m\n",
      "\u001b[0;31mNameError\u001b[0m: name 'dataset' is not defined"
     ]
    }
   ],
   "source": [
    "import tensorflow as tf\n",
    "from tensorflow.keras import layers\n",
    "import numpy as np\n",
    "\n",
    "#config layers\n",
    "model = tf.keras.Sequential()\n",
    "model.add(layers.Dense(64, activation='relu'))\n",
    "model.add(layers.Dense(64, activation='relu'))\n",
    "model.add(layers.Dense(10, activation='softmax'))\n",
    "\n",
    "#train & estimate\n",
    "model.compile(optimizer=tf.train.AdamOptimizer(0.001),\n",
    "             loss = 'categorical_crossentropy',\n",
    "             metrics=['accuracy'])\n",
    "#input data\n",
    "data = np.random.random((1000, 32))\n",
    "labels = np.random.random((1000, 10))\n",
    "\n",
    "val_data = np.random.random((100,32))\n",
    "val_labels = np.random.random((100,10))\n",
    "\n",
    "model.fit(data, labels, epochs=10, batch_size=32,\n",
    "         validation_data=(val_data, val_labels))\n",
    "\n",
    "\n"
   ]
  },
  {
   "cell_type": "code",
   "execution_count": null,
   "metadata": {},
   "outputs": [],
   "source": [
    "\n",
    "\n"
   ]
  }
 ],
 "metadata": {
  "kernelspec": {
   "display_name": "Python 3",
   "language": "python",
   "name": "python3"
  },
  "language_info": {
   "codemirror_mode": {
    "name": "ipython",
    "version": 3
   },
   "file_extension": ".py",
   "mimetype": "text/x-python",
   "name": "python",
   "nbconvert_exporter": "python",
   "pygments_lexer": "ipython3",
   "version": "3.6.8"
  }
 },
 "nbformat": 4,
 "nbformat_minor": 2
}
