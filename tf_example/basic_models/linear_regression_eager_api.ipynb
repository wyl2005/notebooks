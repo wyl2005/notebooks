{
 "cells": [
  {
   "cell_type": "code",
   "execution_count": 1,
   "metadata": {},
   "outputs": [],
   "source": [
    "import matplotlib.pyplot as plt\n",
    "import numpy as np\n",
    "import tensorflow as tf"
   ]
  },
  {
   "cell_type": "code",
   "execution_count": 6,
   "metadata": {},
   "outputs": [],
   "source": [
    "tf.enable_eager_execution()\n",
    "tfe = tf.contrib.eager"
   ]
  },
  {
   "cell_type": "code",
   "execution_count": 7,
   "metadata": {},
   "outputs": [],
   "source": [
    "# Training Data\n",
    "train_X = [3.3, 4.4, 5.5, 6.71, 6.93, 4.168, 9.779, 6.182, 7.59, 2.167,\n",
    "           7.042, 10.791, 5.313, 7.997, 5.654, 9.27, 3.1]\n",
    "train_Y = [1.7, 2.76, 2.09, 3.19, 1.694, 1.573, 3.366, 2.596, 2.53, 1.221,\n",
    "           2.827, 3.465, 1.65, 2.904, 2.42, 2.94, 1.3]\n",
    "n_samples = len(train_X)\n",
    "\n",
    "# Parameters\n",
    "learning_rate = 0.01\n",
    "display_step = 100\n",
    "num_steps = 1000"
   ]
  },
  {
   "cell_type": "code",
   "execution_count": 8,
   "metadata": {},
   "outputs": [],
   "source": [
    "W = tfe.Variable(np.random.randn())\n",
    "b = tfe.Variable(np.random.randn())\n",
    "\n",
    "def linear_regression(inputs):\n",
    "    return inputs*W +b\n",
    "\n",
    "def mean_square_fn(model_fn, inputs, labels):\n",
    "    return tf.reduce_sum(tf.pow(model_fn(inputs) - labels, 2)) / (2*n_samples)"
   ]
  },
  {
   "cell_type": "code",
   "execution_count": 10,
   "metadata": {},
   "outputs": [],
   "source": [
    "#SGD Optimizer\n",
    "optimizer = tf.train.GradientDescentOptimizer(learning_rate=learning_rate)\n",
    "\n",
    "#Compute gradients\n",
    "grad = tfe.implicit_gradients(mean_square_fn)\n",
    "\n"
   ]
  },
  {
   "cell_type": "code",
   "execution_count": 16,
   "metadata": {},
   "outputs": [
    {
     "name": "stdout",
     "output_type": "stream",
     "text": [
      "Initial cost = 1.287954211 W=0.3316017687320709 b=1.845678687095642\n",
      "epoch: 0001, cost=0.485597044, W=0.230981, =1.830229\n",
      "epoch: 0100, cost=0.126984999, W=0.124791, =1.698065\n",
      "epoch: 0200, cost=0.116189890, W=0.139298, =1.595216\n",
      "epoch: 0300, cost=0.107722856, W=0.152146, =1.504130\n",
      "epoch: 0400, cost=0.101081751, W=0.163525, =1.423460\n",
      "epoch: 0500, cost=0.095872879, W=0.173602, =1.352017\n",
      "epoch: 0600, cost=0.091787435, W=0.182527, =1.288746\n",
      "epoch: 0700, cost=0.088582985, W=0.190431, =1.232710\n",
      "epoch: 0800, cost=0.086069636, W=0.197431, =1.183084\n",
      "epoch: 0900, cost=0.084098354, W=0.203630, =1.139133\n",
      "epoch: 1000, cost=0.082552165, W=0.209120, =1.100209\n"
     ]
    }
   ],
   "source": [
    "# Initial cost, befor optimizing\n",
    "print(\"Initial cost = {:.9f} W={} b={}\".format(\n",
    "    mean_square_fn(linear_regression,train_X, train_Y),\n",
    "     W.numpy(), b.numpy()))\n",
    "\n",
    "for step in range(num_steps):\n",
    "    optimizer.apply_gradients(grad(linear_regression, train_X, train_Y))\n",
    "    \n",
    "    if (step +1) % display_step ==0 or step == 0:\n",
    "        print('epoch: %04d, cost=%.9f, W=%f, =%f' % \n",
    "             (step+1,mean_square_fn(linear_regression, train_X,train_Y), W.numpy(), b.numpy()))\n",
    "        \n",
    "        \n"
   ]
  },
  {
   "cell_type": "code",
   "execution_count": 17,
   "metadata": {},
   "outputs": [
    {
     "data": {
      "image/png": "[encoded data removed]",
      "text/plain": [
       "<Figure size 432x288 with 1 Axes>"
      ]
     },
     "metadata": {
      "needs_background": "light"
     },
     "output_type": "display_data"
    }
   ],
   "source": [
    "plt.plot(train_X, train_Y, 'ro', label='Original data')\n",
    "plt.plot(train_X, np.array(W*train_X+b),  label='Fitted line')\n",
    "plt.legend()\n",
    "plt.show()\n"
   ]
  },
  {
   "cell_type": "code",
   "execution_count": null,
   "metadata": {},
   "outputs": [],
   "source": []
  },
  {
   "cell_type": "code",
   "execution_count": null,
   "metadata": {},
   "outputs": [],
   "source": []
  },
  {
   "cell_type": "code",
   "execution_count": null,
   "metadata": {},
   "outputs": [],
   "source": []
  }
 ],
 "metadata": {
  "kernelspec": {
   "display_name": "Python 3",
   "language": "python",
   "name": "python3"
  },
  "language_info": {
   "codemirror_mode": {
    "name": "ipython",
    "version": 3
   },
   "file_extension": ".py",
   "mimetype": "text/x-python",
   "name": "python",
   "nbconvert_exporter": "python",
   "pygments_lexer": "ipython3",
   "version": "3.6.8"
  }
 },
 "nbformat": 4,
 "nbformat_minor": 2
}
