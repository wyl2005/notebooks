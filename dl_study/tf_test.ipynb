{
 "cells": [
  {
   "cell_type": "code",
   "execution_count": 9,
   "metadata": {},
   "outputs": [],
   "source": [
    "import tensorflow as tf\n",
    "import numpy as np"
   ]
  },
  {
   "cell_type": "code",
   "execution_count": null,
   "metadata": {},
   "outputs": [],
   "source": [
    "g = tf.Graph()\n",
    "print(g)\n",
    "with g.as_default():\n",
    "    c = tf.constant(11.0)\n",
    "    print(c.graph)"
   ]
  },
  {
   "cell_type": "code",
   "execution_count": null,
   "metadata": {},
   "outputs": [],
   "source": [
    "with g.as_default():\n",
    "    print(c.graph, c.name)\n",
    "    a = tf.constant(2.0)\n",
    "    assert c.graph is g\n",
    "#     print(c.op)\n"
   ]
  },
  {
   "cell_type": "code",
   "execution_count": null,
   "metadata": {},
   "outputs": [],
   "source": [
    "# 默认的这张图，相当于是给程序分配一段内存\n",
    "graph1= tf.get_default_graph()\n",
    "print(graph1)"
   ]
  },
  {
   "cell_type": "code",
   "execution_count": null,
   "metadata": {},
   "outputs": [],
   "source": [
    "graph = tf.get_default_graph()\n",
    "print(graph)"
   ]
  },
  {
   "cell_type": "code",
   "execution_count": null,
   "metadata": {},
   "outputs": [],
   "source": []
  },
  {
   "cell_type": "code",
   "execution_count": null,
   "metadata": {},
   "outputs": [],
   "source": [
    "#加法\n",
    "a = tf.constant(5.0)\n",
    "b = tf.constant(6.0)\n",
    "sum1 = tf.add(a, b)\n",
    "print(sum1)\n",
    "\n",
    "plt = tf.placeholder(tf.float32, [2,3])\n",
    "print(plt)\n",
    "\n",
    "with tf.Session(config=tf.ConfigProto(log_device_placement=True)) as sess:\n",
    "    print(sess.run(plt, feed_dict={plt:[[2,3,5],[1,2,3]]}))\n",
    "    print(plt.shape)\n",
    "    print(plt.graph)\n",
    "    \n",
    "    print(\"*\"*10)\n",
    "    print(sess.run(sum1))\n",
    "    print(sum1.graph)\n",
    "    print(c.graph)\n",
    "    "
   ]
  },
  {
   "cell_type": "code",
   "execution_count": null,
   "metadata": {},
   "outputs": [],
   "source": [
    "#形状的概念\n",
    "# 静态形状\n",
    "plt = tf.placeholder(tf.float32, [None, 3])\n",
    "print(plt)\n",
    "plt.set_shape([4,3])\n",
    "print(plt)\n",
    "\n",
    "# 静态形状只能设置一次\n",
    "#plt.set_shape([5,2])\n",
    "# print(plt)\n",
    "\n",
    "#动态形状\n",
    "plt_reshape = tf.reshape(plt, [2,3,2])\n",
    "print(plt_reshape)\n"
   ]
  },
  {
   "cell_type": "code",
   "execution_count": 2,
   "metadata": {},
   "outputs": [
    {
     "name": "stdout",
     "output_type": "stream",
     "text": [
      "Tensor(\"a:0\", shape=(), dtype=float32) <tf.Variable 'variable_test:0' shape=(2, 3) dtype=float32_ref>\n",
      "[7.0, array([[-0.45653594,  1.8170266 , -0.03094544],\n",
      "       [-1.3915446 , -0.750917  , -0.4406412 ]], dtype=float32)]\n"
     ]
    }
   ],
   "source": [
    "#变量op\n",
    "# 变量OP能够持久化保存，普通张量OP不能。\n",
    "a = tf.constant(3.0, name=\"a\")\n",
    "b = tf.constant(4.0, name=\"b\")\n",
    "c = tf.add(a,b, name=\"add\")\n",
    "var = tf.Variable(tf.random_normal([2,3], mean=0.0, stddev=1.0),name=\"variable_test\")\n",
    "\n",
    "print(a, var)\n",
    "# 必须做一步显示的初始化op\n",
    "init_op = tf.global_variables_initializer()\n",
    "with tf.Session() as sess:\n",
    "    # 必须运行初始化op\n",
    "    sess.run(init_op)\n",
    "    \n",
    "    # 把程序的图结构写入事件文件，graph：把指定的图写进事件文件中\n",
    "    filewriter= tf.summary.FileWriter(\"/tf/logs/test/\", graph=sess.graph)\n",
    "    \n",
    "    print(sess.run([c, var]))"
   ]
  },
  {
   "cell_type": "code",
   "execution_count": null,
   "metadata": {},
   "outputs": [],
   "source": [
    "#创建随机值张量\n",
    "z = tf.zeros([3,4], tf.float32)\n",
    "isess = tf.InteractiveSession()\n",
    "print(z.eval())\n",
    "\n",
    "z.eval()\n",
    "a = tf.constant(3.0)\n",
    "print(a.eval())\n",
    "\n",
    "isess.close()\n",
    "\n",
    "tf.ones((3,4), tf.float32).eval()\n",
    "\n",
    "#创建随机张量\n",
    "b = tf.random_normal([4,4], mean=0, stddev=1,dtype=tf.float32)\n",
    "b.eval()\n",
    "\n",
    "\n",
    "c = tf.cast([[1,2,3],[4,5,6]],tf.float32)\n",
    "c.name"
   ]
  },
  {
   "cell_type": "code",
   "execution_count": 21,
   "metadata": {},
   "outputs": [
    {
     "name": "stdout",
     "output_type": "stream",
     "text": [
      "Tensor(\"one_hot_26:0\", shape=(4, 6), dtype=int32)\n",
      "Tensor(\"one_hot_27:0\", shape=(2, 4, 26), dtype=int32)\n",
      "[[0 1 0 0 0 0]\n",
      " [0 0 0 1 0 0]\n",
      " [0 0 0 0 0 1]\n",
      " [0 0 0 0 1 0]]\n",
      "[[[0 1 0 0 0 0 0 0 0 0 0 0 0 0 0 0 0 0 0 0 0 0 0 0 0 0]\n",
      "  [0 0 0 1 0 0 0 0 0 0 0 0 0 0 0 0 0 0 0 0 0 0 0 0 0 0]\n",
      "  [0 0 0 0 0 1 0 0 0 0 0 0 0 0 0 0 0 0 0 0 0 0 0 0 0 0]\n",
      "  [0 0 0 0 1 0 0 0 0 0 0 0 0 0 0 0 0 0 0 0 0 0 0 0 0 0]]\n",
      "\n",
      " [[1 0 0 0 0 0 0 0 0 0 0 0 0 0 0 0 0 0 0 0 0 0 0 0 0 0]\n",
      "  [0 0 0 0 0 0 0 0 0 0 0 0 1 0 0 0 0 0 0 0 0 0 0 0 0 0]\n",
      "  [0 0 1 0 0 0 0 0 0 0 0 0 0 0 0 0 0 0 0 0 0 0 0 0 0 0]\n",
      "  [0 0 0 1 0 0 0 0 0 0 0 0 0 0 0 0 0 0 0 0 0 0 0 0 0 0]]]\n"
     ]
    }
   ],
   "source": [
    "a = [1, 3, 5, 4] # (4,)\n",
    "b = tf.one_hot(a, depth=6, on_value=1, axis=1) #(4, 6)\n",
    "\n",
    "aa = [[1, 3, 5, 4],[0, 12, 2,3]] # (2,4)\n",
    "#(2, 4, 26) 2个样本，每个样本4个目标值，每个目标值有26种可能性  \n",
    "bb = tf.one_hot(aa, depth=26, on_value=1, axis=2) #(2, 4, 6) \n",
    "print(b)\n",
    "print(bb)\n",
    "with tf.Session() as sess:\n",
    "    print(sess.run(b))\n",
    "    print(sess.run(bb))"
   ]
  },
  {
   "cell_type": "code",
   "execution_count": 7,
   "metadata": {},
   "outputs": [
    {
     "name": "stdout",
     "output_type": "stream",
     "text": [
      "[0, 1, 2, 3, 4, 5, 6, 7, 8, 9, 10, 11]\n",
      "[1 2 3 4 5 6 7 8]\n",
      "[4 5 6 7 8]\n"
     ]
    }
   ],
   "source": [
    "# tf.slice\n",
    "a = list(range(12))\n",
    "print(a)\n",
    "b = tf.slice(a, [1], [8])\n",
    "c = b[3:]\n",
    "with tf.Session() as sess:\n",
    "    print(b.eval())\n",
    "    print(c.eval())"
   ]
  },
  {
   "cell_type": "code",
   "execution_count": 45,
   "metadata": {},
   "outputs": [
    {
     "name": "stdout",
     "output_type": "stream",
     "text": [
      "Tensor(\"Cast_42:0\", shape=(3, 4), dtype=int8)\n",
      "Tensor(\"Mean_44:0\", shape=(3,), dtype=int8)\n",
      "[[ 0  1  2  3]\n",
      " [ 4  5  6  7]\n",
      " [ 8  9 10 11]]\n",
      "[[ 0  1  2  3]\n",
      " [ 4  5  6  7]\n",
      " [ 8  9  0 11]]\n",
      "[2 4]\n",
      "[ True  True False]\n",
      "[[ True  True  True  True]\n",
      " [ True  True  True  True]\n",
      " [ True  True False  True]]\n",
      "0.9166667\n",
      "[[1. 1. 1. 1.]\n",
      " [1. 1. 1. 1.]\n",
      " [1. 1. 0. 1.]]\n",
      "Tensor(\"Mean_46:0\", shape=(3,), dtype=float32)\n",
      "[1.   1.   0.75]\n",
      "[1 1 0]\n",
      "0\n"
     ]
    }
   ],
   "source": [
    "a=[[1,2,13,4,5],[0,0,18,20,30]]\n",
    "b = np.arange(12).reshape(3,4)\n",
    "c = np.arange(12).reshape(3,4)\n",
    "c[2,2] = 0\n",
    "\n",
    "equal_list = tf.cast(tf.equal(b,c), tf.int8)\n",
    "print(equal_list)\n",
    "el = tf.reduce_mean(equal_list, axis=1)\n",
    "print(el)\n",
    "\n",
    "\n",
    "print(b)\n",
    "print(c)\n",
    "with tf.Session() as sess:\n",
    "    print(tf.argmax(a,1).eval())\n",
    "    print(tf.equal([1,2,4], [1,2,3]).eval())\n",
    "    print(tf.equal(b,c).eval())\n",
    "    print(tf.reduce_mean(tf.cast(tf.equal(b,c), tf.float32)).eval())\n",
    "    x = tf.cast(tf.equal(b,c), tf.float32)\n",
    "    print(x.eval())\n",
    "    xx = tf.reduce_mean(x, axis=1)\n",
    "    print(xx)\n",
    "    print(sess.run(tf.reduce_mean(x,axis=1)))\n",
    "    print(tf.cast(xx, tf.int8).eval())\n",
    "    print(\n",
    "        sess.run(\n",
    "            tf.reduce_mean(tf.cast(xx,tf.int8))\n",
    "        )\n",
    "    )"
   ]
  },
  {
   "cell_type": "code",
   "execution_count": 93,
   "metadata": {},
   "outputs": [
    {
     "name": "stdout",
     "output_type": "stream",
     "text": [
      "[[ 0  1  2  3]\n",
      " [ 4  5  6  7]\n",
      " [ 8  9 10 11]]\n",
      "Tensor(\"Cast_91:0\", shape=(3, 4), dtype=int8)\n",
      "Tensor(\"Mean_105:0\", shape=(), dtype=float32)\n",
      "Tensor(\"Mean_106:0\", shape=(), dtype=float64)\n",
      "[[1 1 1 1]\n",
      " [1 1 1 1]\n",
      " [1 0 0 0]]\n",
      "0.6666667\n",
      "5.5\n"
     ]
    }
   ],
   "source": [
    "# tf.equal\n",
    "# tf.reduce_mean\n",
    "b = np.arange(12).reshape(3,4)\n",
    "c = np.arange(12).reshape(3,4)\n",
    "c[2,1] = 0\n",
    "c[2,2] = 0\n",
    "c[2,3] = 0\n",
    "print(b)\n",
    "equal_list = tf.cast(tf.equal(b,c), tf.int8)\n",
    "print(equal_list)\n",
    "el = tf.reduce_mean(tf.cast(tf.reduce_mean(equal_list, axis=1), tf.float32))\n",
    "print(el)\n",
    "\n",
    "rm = tf.reduce_mean(b.astype(float))\n",
    "print(rm)\n",
    "\n",
    "# print(b)\n",
    "# print(c)\n",
    "with tf.Session() as sess:\n",
    "    print(sess.run(equal_list))\n",
    "    print(sess.run(el))\n",
    "    print(sess.run(rm))"
   ]
  },
  {
   "cell_type": "code",
   "execution_count": 53,
   "metadata": {},
   "outputs": [
    {
     "name": "stdout",
     "output_type": "stream",
     "text": [
      "[ 0  1  2  3  4  5  6  7  8  9 10 11]\n"
     ]
    },
    {
     "data": {
      "text/plain": [
       "array([ 0,  1,  2,  3,  4,  5, 10, 10, 10, 10, 10, 10])"
      ]
     },
     "execution_count": 53,
     "metadata": {},
     "output_type": "execute_result"
    }
   ],
   "source": [
    "a = np.arange(12)\n",
    "print(a)\n",
    "np.where(a < 6, a,10)"
   ]
  },
  {
   "cell_type": "code",
   "execution_count": 69,
   "metadata": {},
   "outputs": [
    {
     "name": "stdout",
     "output_type": "stream",
     "text": [
      "[[1 1 1]\n",
      " [1 1 1]]\n",
      "[[1 1 1]\n",
      " [1 1 0]]\n"
     ]
    }
   ],
   "source": [
    "# tf.ones_like\n",
    "# tf.where\n",
    "tensor = tf.constant([[1, 2, 3], [4, 5, 6]])\n",
    "a = tf.ones_like(tensor)\n",
    "\n",
    "one = tf.ones_like(tensor)\n",
    "zero = tf.zeros_like(tensor)\n",
    "b = tf.where(tensor <=5, x=one, y=zero)\n",
    "\n",
    "# b = tf.where(tensor <=4, x=[[0,0,0],[9,9,9]], y=[[8,8,8],[1,1,1]])\n",
    "with tf.Session() as sess:\n",
    "    print(a.eval())\n",
    "    print(b.eval())"
   ]
  },
  {
   "cell_type": "code",
   "execution_count": null,
   "metadata": {},
   "outputs": [],
   "source": []
  },
  {
   "cell_type": "code",
   "execution_count": 20,
   "metadata": {},
   "outputs": [
    {
     "name": "stdout",
     "output_type": "stream",
     "text": [
      "[2 4]\n"
     ]
    }
   ],
   "source": [
    "# tf.argmax\n",
    "a=[[1,2,13,4,5],[0,0,18,20,30]]\n",
    "with tf.Session() as sess:\n",
    "    print(tf.argmax(a, axis=1).eval())"
   ]
  },
  {
   "cell_type": "code",
   "execution_count": 102,
   "metadata": {},
   "outputs": [
    {
     "name": "stdout",
     "output_type": "stream",
     "text": [
      "[[[ 0  1  2  3]\n",
      "  [ 4  5  6  7]\n",
      "  [ 8  9 10 11]]\n",
      "\n",
      " [[12 13 14 15]\n",
      "  [16 17 18 19]\n",
      "  [20 21 22 23]]]\n",
      "[[2 2 2 2]\n",
      " [2 2 2 2]]\n",
      "23\n"
     ]
    }
   ],
   "source": [
    "# tf.argmax\n",
    "a = np.arange(24).reshape(2,3,4)\n",
    "print(a)\n",
    "b = np.arange(24)\n",
    "with tf.Session() as sess:\n",
    "    print(tf.argmax(a,1).eval())\n",
    "    print(tf.argmax(b,0).eval())"
   ]
  },
  {
   "cell_type": "code",
   "execution_count": null,
   "metadata": {},
   "outputs": [],
   "source": [
    "print( list(enumerate(list(\"ABCDE\"))) )\n",
    "print( dict((enumerate(list(\"ABCDE\")))) )\n",
    "a = dict(enumerate(list(\"ABCDE\")))\n",
    "a.keys()"
   ]
  },
  {
   "cell_type": "code",
   "execution_count": null,
   "metadata": {},
   "outputs": [],
   "source": [
    "a = list(range(1,5))\n",
    "a\n",
    "b = list(\"abcd\")\n",
    "b\n",
    "dict(zip(b,a))\n",
    "\n",
    "for i in zip(a,b):\n",
    "    print(i)\n",
    "    break"
   ]
  },
  {
   "cell_type": "code",
   "execution_count": 96,
   "metadata": {},
   "outputs": [
    {
     "name": "stdout",
     "output_type": "stream",
     "text": [
      "b'abcd'\n",
      "a\n",
      "b\n",
      "c\n",
      "d\n"
     ]
    }
   ],
   "source": [
    "\"A\".encode(\"utf-8\")\n",
    "\"A\".encode(\"ascii\")\n",
    "a = b'abcd'\n",
    "print(a)\n",
    "\n",
    "for i in a.decode(\"utf-8\"):\n",
    "    print(i)"
   ]
  },
  {
   "cell_type": "code",
   "execution_count": 95,
   "metadata": {},
   "outputs": [
    {
     "name": "stdout",
     "output_type": "stream",
     "text": [
      "65\n"
     ]
    }
   ],
   "source": [
    "i = b'A'\n",
    "for j in i:\n",
    "    print(j)"
   ]
  }
 ],
 "metadata": {
  "kernelspec": {
   "display_name": "Python 3",
   "language": "python",
   "name": "python3"
  },
  "language_info": {
   "codemirror_mode": {
    "name": "ipython",
    "version": 3
   },
   "file_extension": ".py",
   "mimetype": "text/x-python",
   "name": "python",
   "nbconvert_exporter": "python",
   "pygments_lexer": "ipython3",
   "version": "3.6.8"
  }
 },
 "nbformat": 4,
 "nbformat_minor": 2
}
