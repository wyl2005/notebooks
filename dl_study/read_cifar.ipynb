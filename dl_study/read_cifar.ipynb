{
 "cells": [
  {
   "cell_type": "code",
   "execution_count": 1,
   "metadata": {},
   "outputs": [],
   "source": [
    "import tensorflow as tf\n",
    "import os"
   ]
  },
  {
   "cell_type": "code",
   "execution_count": 2,
   "metadata": {},
   "outputs": [],
   "source": [
    "FLAGS = tf.app.flags.FLAGS\n",
    "tf.app.flags.DEFINE_string(\"cifar_dir\", \"./data/cifar10/cifar-10-batches-bin\", \"文件的目录\")\n",
    "tf.app.flags.DEFINE_string(\"cifar_tfrecords\", \"./data/cifar10/cifar.tfrecords\",\"存进tfrecords的文件\")\n",
    "tf.app.flags.DEFINE_string(\"f\", \"\",\"\")\n"
   ]
  },
  {
   "cell_type": "code",
   "execution_count": 4,
   "metadata": {},
   "outputs": [],
   "source": [
    "class CifarRead(object):\n",
    "    \"\"\"\n",
    "    完成读取二进制文件，写进tfrecords，读取tfrecords\n",
    "    \"\"\"\n",
    "    \n",
    "    def __init__(self, filelist):\n",
    "        self.filelist = filelist\n",
    "        \n",
    "        # 定义读取的图片的一些属性\n",
    "        self.height = 32\n",
    "        self.width = 32\n",
    "        self.channel = 3\n",
    "        \n",
    "        # 二进制文件每张图片的字节\n",
    "        self.label_bytes = 1\n",
    "        self.image_bytes = self.height * self.width * self.channel\n",
    "        self.bytes = self.label_bytes + self.image_bytes\n",
    "        \n",
    "    def read_and_decode(self):\n",
    "        # 1. 构造文件队列\n",
    "        file_queue = tf.train.string_input_producer(self.filelist)\n",
    "        \n",
    "        # 2. 构造二进制文件读取器，读取内容:每个样本的字节数\n",
    "        reader = tf.FixedLengthRecordReader(self.bytes)\n",
    "        key, value = reader.read(file_queue)\n",
    "        \n",
    "        # 3.解码内容\n",
    "        label_image = tf.decode_raw(value, tf.uint8)\n",
    "        \n",
    "        print(label_image)\n",
    "        \n",
    "        # 4.分割出图片和标签数据，切出特征值和目标值\n",
    "        label = tf.slice(label_image, [0], [self.label_bytes])\n",
    "        image = tf.slice(label_image, [self.label_bytes], [self.image_bytes])\n",
    "#         a = tf.reshape(label_image[0:1], [1])\n",
    "#         b = tf.reshape(label[1:], [self.image_bytes])\n",
    "        print(label, image)\n",
    "#         print(a, b)\n",
    "        print(\"*\"*20)\n",
    "        # 5. 对图片的特征数据进行形状改变 [3072] -> [32, 32, 3]\n",
    "        image_reshape = tf.reshape(image, [self.height, self.width, self.channel])\n",
    "        \n",
    "        print(label, image_reshape)\n",
    "        \n",
    "        # 6. 批处理\n",
    "        image_batch, label_batch = tf.train.batch([image_reshape, label],\n",
    "                                                 batch_size =10,\n",
    "                                                 num_threads = 1,\n",
    "                                                 capacity=10)\n",
    "        print(image_batch, label_batch)\n",
    "        return image_batch, label_batch\n",
    "    \n",
    "\n",
    "    def write_to_tfrecords(self, image_batch, label_batch):\n",
    "        \"\"\"\n",
    "        将图片的特征值和目标值存进tfrecords\n",
    "        image_batch: 10张图片的特征值\n",
    "        label_batch: 10张图片的标签值\n",
    "        \"\"\"\n",
    "        \n",
    "        # 1. 建立tfrecords存储器\n",
    "        writer = tf.python_io.TFRecordWriter(FLAGS.cifar_tfrecords)\n",
    "    \n",
    "        # 2. 循环将所有样本写入文件，每张图片样本都要构造example协议\n",
    "        for i in range(10):\n",
    "            # 取出第i个图片数据的特征值和目标值\n",
    "            # image_batch shape [10, 32, 32, 3]\n",
    "            # label_batch shape [10,1]\n",
    "            image = image_batch[i].eval().tostring()\n",
    "            label = label_batch[i].eval()[0]\n",
    "        \n",
    "            # 构造一个样本的example\n",
    "            example = tf.train.Example(features=tf.train.Features(feature={\n",
    "                \"image\":tf.train.Feature(bytes_list=\n",
    "                                        tf.train.BytesList(value=[image])),\n",
    "                \"label\":tf.train.Feature(int64_list=\n",
    "                                        tf.train.Int64List(value=[label])),\n",
    "            }))\n",
    "            \n",
    "            # 写入单独的样本\n",
    "            writer.write(example.SerializeToString())\n",
    "            \n",
    "        writer.close()\n",
    "        return None\n",
    "\n",
    "    def read_from_tfrecords(self, file_list):\n",
    "        \n",
    "        #1. 构造文件队列\n",
    "        file_queue = tf.train.string_input_producer(file_list)\n",
    "        \n",
    "        # 2. 构造文件阅读器，读取内容，value=一个样本的序列化example\n",
    "        reader = tf.TFRecordReader()\n",
    "        \n",
    "        key, value = reader.read(file_queue)\n",
    "        \n",
    "        # 3. 解析 example\n",
    "        features = tf.parse_single_example(value, features={\n",
    "            \"image\": tf.FixedLenFeature([], tf.string),\n",
    "            \"label\": tf.FixedLenFeature([], tf.int64),\n",
    "        })\n",
    "        \n",
    "        # 4. 解码内容，如果读取的内容格式是string，需要解码\n",
    "        image = tf.decode_raw(features[\"image\"], tf.uint8)\n",
    "        \n",
    "        # 固定图片的形状，方便批处理\n",
    "        image_reshape = tf.reshape(image,[self.height,self.width, self.channel])\n",
    "        label = tf.cast(features[\"label\"], tf.int32)\n",
    "        \n",
    "        print(image_reshape, label)\n",
    "        \n",
    "        #批处理\n",
    "        image_batch, label_batch = tf.train.batch([image_reshape,label],\n",
    "                                                 batch_size=10,\n",
    "                                                 num_threads=1,\n",
    "                                                 capacity=10)\n",
    "        \n",
    "        return image_batch, label_batch\n",
    "        "
   ]
  },
  {
   "cell_type": "code",
   "execution_count": 24,
   "metadata": {},
   "outputs": [],
   "source": [
    "# file_name = os.listdir(FLAGS.cifar_dir)\n",
    "# print(file_name)\n",
    "\n",
    "# [i for i in file_name if i[-4:] == \".bin\" and i[:10]==\"data_batch\"]"
   ]
  },
  {
   "cell_type": "code",
   "execution_count": 6,
   "metadata": {
    "scrolled": false
   },
   "outputs": [
    {
     "name": "stdout",
     "output_type": "stream",
     "text": [
      "Tensor(\"DecodeRaw_1:0\", shape=(?,), dtype=uint8)\n",
      "Tensor(\"Slice_2:0\", shape=(1,), dtype=uint8) Tensor(\"Slice_3:0\", shape=(3072,), dtype=uint8)\n",
      "********************\n",
      "Tensor(\"Slice_2:0\", shape=(1,), dtype=uint8) Tensor(\"Reshape_1:0\", shape=(32, 32, 3), dtype=uint8)\n",
      "Tensor(\"batch_1:0\", shape=(10, 32, 32, 3), dtype=uint8) Tensor(\"batch_1:1\", shape=(10, 1), dtype=uint8)\n",
      "[array([[5],\n",
      "       [5],\n",
      "       [7],\n",
      "       [3],\n",
      "       [3],\n",
      "       [0],\n",
      "       [4],\n",
      "       [5],\n",
      "       [3],\n",
      "       [8]], dtype=uint8)]\n"
     ]
    }
   ],
   "source": [
    "# 找到文件，放入列表， 路径+名字 \n",
    "file_name = os.listdir(FLAGS.cifar_dir)\n",
    "file_list = [os.path.join(FLAGS.cifar_dir, i) for i in file_name\n",
    "            if i[-4:]==\".bin\" and i[:4]==\"data\"]\n",
    "\n",
    "cf = CifarRead(file_list)\n",
    "\n",
    "# 1. read from binary\n",
    "image_batch, label_batch = cf.read_and_decode()\n",
    "\n",
    "# 2. read from tfrecords\n",
    "# image_batch, label_batch = cf.read_from_tfrecords([FLAGS.cifar_tfrecords])\n",
    "\n",
    "\n",
    "\n",
    "#开启会话运行结果\n",
    "with tf.Session() as sess:\n",
    "    # 定义一个线程协调器\n",
    "    coord = tf.train.Coordinator()\n",
    "    \n",
    "    #开启读文件的线程\n",
    "    threads = tf.train.start_queue_runners(sess, coord=coord)\n",
    "    \n",
    "    # 存进tfrecords 文件\n",
    "    cf.write_to_tfrecords(image_batch, label_batch)\n",
    "    \n",
    "#     print(sess.run([image_batch ]))\n",
    "    print(sess.run([ label_batch]))\n",
    "    \n",
    "    coord.request_stop()\n",
    "    coord.join(threads)"
   ]
  },
  {
   "cell_type": "code",
   "execution_count": 53,
   "metadata": {},
   "outputs": [
    {
     "data": {
      "text/plain": [
       "<tf.Tensor 'Placeholder_7:0' shape=(1,) dtype=float32>"
      ]
     },
     "execution_count": 53,
     "metadata": {},
     "output_type": "execute_result"
    }
   ],
   "source": [
    "p = tf.placeholder(tf.float32, [None])\n",
    "p.set_shape([1])\n",
    "p"
   ]
  },
  {
   "cell_type": "code",
   "execution_count": 41,
   "metadata": {},
   "outputs": [
    {
     "name": "stdout",
     "output_type": "stream",
     "text": [
      "Tensor(\"Const_5:0\", shape=(10,), dtype=int32)\n",
      "Tensor(\"strided_slice_18:0\", shape=(7,), dtype=int32)\n",
      "Tensor(\"Slice_12:0\", shape=(5,), dtype=int32)\n",
      "b'\\x00\\x00\\x00\\x00\\x01\\x00\\x00\\x00\\x02\\x00\\x00\\x00\\x03\\x00\\x00\\x00\\x04\\x00\\x00\\x00\\x05\\x00\\x00\\x00\\x06\\x00\\x00\\x00\\x07\\x00\\x00\\x00\\x08\\x00\\x00\\x00\\t\\x00\\x00\\x00'\n",
      "Tensor(\"Const_5:0\", shape=(10,), dtype=int32)\n"
     ]
    }
   ],
   "source": [
    "a = tf.constant(list(range(10)))\n",
    "b = a[3:]\n",
    "c = tf.slice(a, [0], [5])\n",
    "print(a)\n",
    "print(b)\n",
    "print(c)\n",
    "with tf.Session() as sess:\n",
    "    print(a.eval().tostring())\n",
    "    print(a)\n",
    "    "
   ]
  },
  {
   "cell_type": "code",
   "execution_count": null,
   "metadata": {},
   "outputs": [],
   "source": [
    "import pickle\n",
    "a = list(range(10))\n",
    "print(a)\n",
    "pickle.dumps(a)"
   ]
  },
  {
   "cell_type": "code",
   "execution_count": 85,
   "metadata": {},
   "outputs": [
    {
     "name": "stdout",
     "output_type": "stream",
     "text": [
      "b'\\x00\\x00\\x00\\x00\\x01\\x00\\x00\\x00\\x02\\x00\\x00\\x00\\x03\\x00\\x00\\x00\\x04\\x00\\x00\\x00\\x05\\x00\\x00\\x00\\x06\\x00\\x00\\x00\\x07\\x00\\x00\\x00\\x08\\x00\\x00\\x00\\t\\x00\\x00\\x00\\n\\x00\\x00\\x00\\x0b\\x00\\x00\\x00'\n",
      "b'\\x00\\x00\\x00\\x00\\x01\\x00\\x00\\x00\\x02\\x00\\x00\\x00\\x03\\x00\\x00\\x00\\x04\\x00\\x00\\x00\\x05\\x00\\x00\\x00\\x06\\x00\\x00\\x00\\x07\\x00\\x00\\x00\\x08\\x00\\x00\\x00\\t\\x00\\x00\\x00\\n\\x00\\x00\\x00\\x0b\\x00\\x00\\x00'\n"
     ]
    }
   ],
   "source": [
    "# tostring test\n",
    "import numpy as np\n",
    "a = np.arange(12,dtype='int32').reshape((3,4))\n",
    "                         \n",
    "print(a.tostring())\n",
    "\n",
    "b = tf.constant(a)\n",
    "with tf.Session() as sess:\n",
    "    print(b.eval().tostring())"
   ]
  },
  {
   "cell_type": "code",
   "execution_count": null,
   "metadata": {},
   "outputs": [],
   "source": [
    "a = np.arange(10,dtype='int32').reshape((10,1))\n",
    "a"
   ]
  },
  {
   "cell_type": "code",
   "execution_count": null,
   "metadata": {},
   "outputs": [],
   "source": []
  },
  {
   "cell_type": "code",
   "execution_count": null,
   "metadata": {},
   "outputs": [],
   "source": []
  }
 ],
 "metadata": {
  "kernelspec": {
   "display_name": "Python 3",
   "language": "python",
   "name": "python3"
  },
  "language_info": {
   "codemirror_mode": {
    "name": "ipython",
    "version": 3
   },
   "file_extension": ".py",
   "mimetype": "text/x-python",
   "name": "python",
   "nbconvert_exporter": "python",
   "pygments_lexer": "ipython3",
   "version": "3.6.8"
  }
 },
 "nbformat": 4,
 "nbformat_minor": 2
}
